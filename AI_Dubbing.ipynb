{
  "nbformat": 4,
  "nbformat_minor": 0,
  "metadata": {
    "kernelspec": {
      "display_name": "Python 3",
      "language": "python",
      "name": "python3"
    },
    "language_info": {
      "codemirror_mode": {
        "name": "ipython",
        "version": 3
      },
      "file_extension": ".py",
      "mimetype": "text/x-python",
      "name": "python",
      "nbconvert_exporter": "python",
      "pygments_lexer": "ipython3",
      "version": "3.8.8"
    },
    "colab": {
      "name": "AI Dubbing  - Advanced.ipynb",
      "provenance": [],
      "collapsed_sections": []
    }
  },
  "cells": [
    {
      "cell_type": "code",
      "metadata": {
        "colab": {
          "base_uri": "https://localhost:8080/",
          "height": 1000
        },
        "id": "MjkXEYXwJ1fk",
        "outputId": "17276de9-2c52-4450-ca38-e535660b6462"
      },
      "source": [
        "!pip install google-cloud-core==1.5.0 google-cloud-speech==2.0.1 google-cloud-storage==1.35.0 google-cloud-texttospeech==2.2.0 boto3 pydub"
      ],
      "execution_count": null,
      "outputs": [
        {
          "output_type": "stream",
          "text": [
            "Collecting google-cloud-core==1.5.0\n",
            "  Downloading https://files.pythonhosted.org/packages/36/82/d54bdbdbae02c66ec26c97eb684cfb27af82b3e286497625b815c4741792/google_cloud_core-1.5.0-py2.py3-none-any.whl\n",
            "Collecting google-cloud-speech==2.0.1\n",
            "\u001b[?25l  Downloading https://files.pythonhosted.org/packages/e6/d5/664cd3597cf3991f67d213f8e0b14c263c971af4bc806454c583f637e2a3/google_cloud_speech-2.0.1-py2.py3-none-any.whl (108kB)\n",
            "\u001b[K     |████████████████████████████████| 112kB 14.2MB/s \n",
            "\u001b[?25hCollecting google-cloud-storage==1.35.0\n",
            "\u001b[?25l  Downloading https://files.pythonhosted.org/packages/a5/6e/b5b745dc1eb31d1ce50df25200b9f74ef36f57f9d226018bcb48e664c728/google_cloud_storage-1.35.0-py2.py3-none-any.whl (96kB)\n",
            "\u001b[K     |████████████████████████████████| 102kB 5.3MB/s \n",
            "\u001b[?25hCollecting google-cloud-texttospeech==2.2.0\n",
            "\u001b[?25l  Downloading https://files.pythonhosted.org/packages/2b/71/9ceb9d8b0b4f86622a898af7f3d3e61bf6d65799e7d57a93103d4471e1b9/google_cloud_texttospeech-2.2.0-py2.py3-none-any.whl (57kB)\n",
            "\u001b[K     |████████████████████████████████| 61kB 4.5MB/s \n",
            "\u001b[?25hCollecting boto3\n",
            "\u001b[?25l  Downloading https://files.pythonhosted.org/packages/af/00/4c6c83799fe8f563f31e921050ee306051b5935469499a696a14ebfb0e02/boto3-1.17.73-py2.py3-none-any.whl (131kB)\n",
            "\u001b[K     |████████████████████████████████| 133kB 14.1MB/s \n",
            "\u001b[?25hCollecting pydub\n",
            "  Downloading https://files.pythonhosted.org/packages/a6/53/d78dc063216e62fc55f6b2eebb447f6a4b0a59f55c8406376f76bf959b08/pydub-0.25.1-py2.py3-none-any.whl\n",
            "Requirement already satisfied: six>=1.12.0 in /usr/local/lib/python3.7/dist-packages (from google-cloud-core==1.5.0) (1.15.0)\n",
            "Requirement already satisfied: google-api-core<2.0.0dev,>=1.21.0 in /usr/local/lib/python3.7/dist-packages (from google-cloud-core==1.5.0) (1.26.3)\n",
            "Collecting proto-plus>=1.4.0\n",
            "\u001b[?25l  Downloading https://files.pythonhosted.org/packages/b4/8a/61c5a9b9b6288f9b060b6e3d88374fc083953a29aeac7206616c2d3c9c8e/proto_plus-1.18.1-py3-none-any.whl (42kB)\n",
            "\u001b[K     |████████████████████████████████| 51kB 3.9MB/s \n",
            "\u001b[?25hCollecting libcst>=0.2.5\n",
            "\u001b[?25l  Downloading https://files.pythonhosted.org/packages/0d/47/ad8ba60c667252be40be06073b58e3234e960ec70608579518e97b368994/libcst-0.3.19-py3-none-any.whl (513kB)\n",
            "\u001b[K     |████████████████████████████████| 522kB 15.2MB/s \n",
            "\u001b[?25hRequirement already satisfied: requests<3.0.0dev,>=2.18.0 in /usr/local/lib/python3.7/dist-packages (from google-cloud-storage==1.35.0) (2.23.0)\n",
            "Collecting google-resumable-media<2.0dev,>=1.2.0\n",
            "\u001b[?25l  Downloading https://files.pythonhosted.org/packages/22/52/4b086e0d15245b648e2b6d408fb2f2974a3a5a405de5d7fae25cd085a3fa/google_resumable_media-1.2.0-py2.py3-none-any.whl (75kB)\n",
            "\u001b[K     |████████████████████████████████| 81kB 5.9MB/s \n",
            "\u001b[?25hRequirement already satisfied: google-auth<2.0dev,>=1.11.0 in /usr/local/lib/python3.7/dist-packages (from google-cloud-storage==1.35.0) (1.30.0)\n",
            "Collecting s3transfer<0.5.0,>=0.4.0\n",
            "\u001b[?25l  Downloading https://files.pythonhosted.org/packages/63/d0/693477c688348654ddc21dcdce0817653a294aa43f41771084c25e7ff9c7/s3transfer-0.4.2-py2.py3-none-any.whl (79kB)\n",
            "\u001b[K     |████████████████████████████████| 81kB 5.2MB/s \n",
            "\u001b[?25hCollecting jmespath<1.0.0,>=0.7.1\n",
            "  Downloading https://files.pythonhosted.org/packages/07/cb/5f001272b6faeb23c1c9e0acc04d48eaaf5c862c17709d20e3469c6e0139/jmespath-0.10.0-py2.py3-none-any.whl\n",
            "Collecting botocore<1.21.0,>=1.20.73\n",
            "\u001b[?25l  Downloading https://files.pythonhosted.org/packages/0b/0b/3af8d5c26c2e2c305a08db0ab564081c0dc3b85b41d0b795055200d4215e/botocore-1.20.73-py2.py3-none-any.whl (7.5MB)\n",
            "\u001b[K     |████████████████████████████████| 7.5MB 20.3MB/s \n",
            "\u001b[?25hRequirement already satisfied: googleapis-common-protos<2.0dev,>=1.6.0 in /usr/local/lib/python3.7/dist-packages (from google-api-core<2.0.0dev,>=1.21.0->google-cloud-core==1.5.0) (1.53.0)\n",
            "Requirement already satisfied: packaging>=14.3 in /usr/local/lib/python3.7/dist-packages (from google-api-core<2.0.0dev,>=1.21.0->google-cloud-core==1.5.0) (20.9)\n",
            "Requirement already satisfied: setuptools>=40.3.0 in /usr/local/lib/python3.7/dist-packages (from google-api-core<2.0.0dev,>=1.21.0->google-cloud-core==1.5.0) (56.1.0)\n",
            "Requirement already satisfied: protobuf>=3.12.0 in /usr/local/lib/python3.7/dist-packages (from google-api-core<2.0.0dev,>=1.21.0->google-cloud-core==1.5.0) (3.12.4)\n",
            "Requirement already satisfied: pytz in /usr/local/lib/python3.7/dist-packages (from google-api-core<2.0.0dev,>=1.21.0->google-cloud-core==1.5.0) (2018.9)\n",
            "Collecting pyyaml>=5.2\n",
            "\u001b[?25l  Downloading https://files.pythonhosted.org/packages/7a/a5/393c087efdc78091afa2af9f1378762f9821c9c1d7a22c5753fb5ac5f97a/PyYAML-5.4.1-cp37-cp37m-manylinux1_x86_64.whl (636kB)\n",
            "\u001b[K     |████████████████████████████████| 645kB 65.5MB/s \n",
            "\u001b[?25hCollecting typing-inspect>=0.4.0\n",
            "  Downloading https://files.pythonhosted.org/packages/42/1c/66402db44184904a2f14722d317a4da0b5c8c78acfc3faf74362566635c5/typing_inspect-0.6.0-py3-none-any.whl\n",
            "Requirement already satisfied: typing-extensions>=3.7.4.2 in /usr/local/lib/python3.7/dist-packages (from libcst>=0.2.5->google-cloud-speech==2.0.1) (3.7.4.3)\n",
            "Requirement already satisfied: urllib3!=1.25.0,!=1.25.1,<1.26,>=1.21.1 in /usr/local/lib/python3.7/dist-packages (from requests<3.0.0dev,>=2.18.0->google-cloud-storage==1.35.0) (1.24.3)\n",
            "Requirement already satisfied: chardet<4,>=3.0.2 in /usr/local/lib/python3.7/dist-packages (from requests<3.0.0dev,>=2.18.0->google-cloud-storage==1.35.0) (3.0.4)\n",
            "Requirement already satisfied: idna<3,>=2.5 in /usr/local/lib/python3.7/dist-packages (from requests<3.0.0dev,>=2.18.0->google-cloud-storage==1.35.0) (2.10)\n",
            "Requirement already satisfied: certifi>=2017.4.17 in /usr/local/lib/python3.7/dist-packages (from requests<3.0.0dev,>=2.18.0->google-cloud-storage==1.35.0) (2020.12.5)\n",
            "Collecting google-crc32c<2.0dev,>=1.0; python_version >= \"3.5\"\n",
            "  Downloading https://files.pythonhosted.org/packages/fc/ae/b6efa1019e18c6c791f0f5cd93b2ff40f8f06696dbf04db39ec0f5591b1e/google_crc32c-1.1.2-cp37-cp37m-manylinux2014_x86_64.whl\n",
            "Requirement already satisfied: cachetools<5.0,>=2.0.0 in /usr/local/lib/python3.7/dist-packages (from google-auth<2.0dev,>=1.11.0->google-cloud-storage==1.35.0) (4.2.2)\n",
            "Requirement already satisfied: rsa<5,>=3.1.4; python_version >= \"3.6\" in /usr/local/lib/python3.7/dist-packages (from google-auth<2.0dev,>=1.11.0->google-cloud-storage==1.35.0) (4.7.2)\n",
            "Requirement already satisfied: pyasn1-modules>=0.2.1 in /usr/local/lib/python3.7/dist-packages (from google-auth<2.0dev,>=1.11.0->google-cloud-storage==1.35.0) (0.2.8)\n",
            "Requirement already satisfied: python-dateutil<3.0.0,>=2.1 in /usr/local/lib/python3.7/dist-packages (from botocore<1.21.0,>=1.20.73->boto3) (2.8.1)\n",
            "Requirement already satisfied: pyparsing>=2.0.2 in /usr/local/lib/python3.7/dist-packages (from packaging>=14.3->google-api-core<2.0.0dev,>=1.21.0->google-cloud-core==1.5.0) (2.4.7)\n",
            "Collecting mypy-extensions>=0.3.0\n",
            "  Downloading https://files.pythonhosted.org/packages/5c/eb/975c7c080f3223a5cdaff09612f3a5221e4ba534f7039db34c35d95fa6a5/mypy_extensions-0.4.3-py2.py3-none-any.whl\n",
            "Requirement already satisfied: cffi>=1.0.0 in /usr/local/lib/python3.7/dist-packages (from google-crc32c<2.0dev,>=1.0; python_version >= \"3.5\"->google-resumable-media<2.0dev,>=1.2.0->google-cloud-storage==1.35.0) (1.14.5)\n",
            "Requirement already satisfied: pyasn1>=0.1.3 in /usr/local/lib/python3.7/dist-packages (from rsa<5,>=3.1.4; python_version >= \"3.6\"->google-auth<2.0dev,>=1.11.0->google-cloud-storage==1.35.0) (0.4.8)\n",
            "Requirement already satisfied: pycparser in /usr/local/lib/python3.7/dist-packages (from cffi>=1.0.0->google-crc32c<2.0dev,>=1.0; python_version >= \"3.5\"->google-resumable-media<2.0dev,>=1.2.0->google-cloud-storage==1.35.0) (2.20)\n",
            "\u001b[31mERROR: google-cloud-bigquery 1.21.0 has requirement google-resumable-media!=0.4.0,<0.5.0dev,>=0.3.1, but you'll have google-resumable-media 1.2.0 which is incompatible.\u001b[0m\n",
            "\u001b[31mERROR: botocore 1.20.73 has requirement urllib3<1.27,>=1.25.4, but you'll have urllib3 1.24.3 which is incompatible.\u001b[0m\n",
            "Installing collected packages: google-cloud-core, proto-plus, pyyaml, mypy-extensions, typing-inspect, libcst, google-cloud-speech, google-crc32c, google-resumable-media, google-cloud-storage, google-cloud-texttospeech, jmespath, botocore, s3transfer, boto3, pydub\n",
            "  Found existing installation: google-cloud-core 1.0.3\n",
            "    Uninstalling google-cloud-core-1.0.3:\n",
            "      Successfully uninstalled google-cloud-core-1.0.3\n",
            "  Found existing installation: PyYAML 3.13\n",
            "    Uninstalling PyYAML-3.13:\n",
            "      Successfully uninstalled PyYAML-3.13\n",
            "  Found existing installation: google-resumable-media 0.4.1\n",
            "    Uninstalling google-resumable-media-0.4.1:\n",
            "      Successfully uninstalled google-resumable-media-0.4.1\n",
            "  Found existing installation: google-cloud-storage 1.18.1\n",
            "    Uninstalling google-cloud-storage-1.18.1:\n",
            "      Successfully uninstalled google-cloud-storage-1.18.1\n",
            "Successfully installed boto3-1.17.73 botocore-1.20.73 google-cloud-core-1.5.0 google-cloud-speech-2.0.1 google-cloud-storage-1.35.0 google-cloud-texttospeech-2.2.0 google-crc32c-1.1.2 google-resumable-media-1.2.0 jmespath-0.10.0 libcst-0.3.19 mypy-extensions-0.4.3 proto-plus-1.18.1 pydub-0.25.1 pyyaml-5.4.1 s3transfer-0.4.2 typing-inspect-0.6.0\n"
          ],
          "name": "stdout"
        },
        {
          "output_type": "display_data",
          "data": {
            "application/vnd.colab-display-data+json": {
              "pip_warning": {
                "packages": [
                  "google"
                ]
              }
            }
          },
          "metadata": {
            "tags": []
          }
        }
      ]
    },
    {
      "cell_type": "code",
      "metadata": {
        "colab": {
          "base_uri": "https://localhost:8080/"
        },
        "id": "Soww6v-eL5mN",
        "outputId": "96b8443a-f8a6-44d2-a008-0f52329392ea"
      },
      "source": [
        "from google.colab import drive\n",
        "drive.mount('/content/gdrive')"
      ],
      "execution_count": null,
      "outputs": [
        {
          "output_type": "stream",
          "text": [
            "Mounted at /content/gdrive\n"
          ],
          "name": "stdout"
        }
      ]
    },
    {
      "cell_type": "code",
      "metadata": {
        "id": "tLgAn37JJuwy",
        "colab": {
          "base_uri": "https://localhost:8080/"
        },
        "outputId": "ce5a87ea-76ca-4178-c791-b49016757d53"
      },
      "source": [
        "import os\n",
        "from pydub import AudioSegment\n",
        "import moviepy.editor as mp\n",
        "from google.cloud import speech_v1p1beta1 as speech\n",
        "import requests\n",
        "import json\n",
        "from google.cloud import texttospeech\n",
        "import boto3 #AMazon client library\n",
        "#import configparser\n",
        "import tempfile\n",
        "import librosa \n",
        "from moviepy.editor import VideoFileClip, AudioFileClip\n",
        "from google.cloud import storage\n",
        "\n",
        "#config_file = configparser.ConfigParser()\n",
        "#config_file.read('config.ini')\n",
        "\n",
        "#API = str(config_file.get('google','api_name'))\n",
        "#ACCESS_KEY = str(config_file.get('amazon','access_key_id'))\n",
        "#SECRET_KEY = str(config_file.get('amazon','secret_access_key'))\n",
        "#ACCESS_KEY = \"\"\n",
        "#SECRET_KEY = \"\"\n",
        "\n",
        "os.environ[\"GOOGLE_APPLICATION_CREDENTIALS\"] = \"/content/gdrive/MyDrive/techara/API_Key.json\"\n",
        "#os.environ['GOOGLE_APPLICATION_CREDENTIALS']=str('API_Key.json')\n"
      ],
      "execution_count": null,
      "outputs": [
        {
          "output_type": "stream",
          "text": [
            "Imageio: 'ffmpeg-linux64-v3.3.1' was not found on your computer; downloading it now.\n",
            "Try 1. Download from https://github.com/imageio/imageio-binaries/raw/master/ffmpeg/ffmpeg-linux64-v3.3.1 (43.8 MB)\n",
            "Downloading: 8192/45929032 bytes (0.0%)\b\b\b\b\b\b\b\b\b\b\b\b\b\b\b\b\b\b\b\b\b\b\b\b\b\b1753088/45929032 bytes (3.8%)\b\b\b\b\b\b\b\b\b\b\b\b\b\b\b\b\b\b\b\b\b\b\b\b\b\b\b\b\b4276224/45929032 bytes (9.3%)\b\b\b\b\b\b\b\b\b\b\b\b\b\b\b\b\b\b\b\b\b\b\b\b\b\b\b\b\b6356992/45929032 bytes (13.8%)\b\b\b\b\b\b\b\b\b\b\b\b\b\b\b\b\b\b\b\b\b\b\b\b\b\b\b\b\b\b8667136/45929032 bytes (18.9%)\b\b\b\b\b\b\b\b\b\b\b\b\b\b\b\b\b\b\b\b\b\b\b\b\b\b\b\b\b\b11444224/45929032 bytes (24.9%)\b\b\b\b\b\b\b\b\b\b\b\b\b\b\b\b\b\b\b\b\b\b\b\b\b\b\b\b\b\b\b13852672/45929032 bytes (30.2%)\b\b\b\b\b\b\b\b\b\b\b\b\b\b\b\b\b\b\b\b\b\b\b\b\b\b\b\b\b\b\b16171008/45929032 bytes (35.2%)\b\b\b\b\b\b\b\b\b\b\b\b\b\b\b\b\b\b\b\b\b\b\b\b\b\b\b\b\b\b\b18956288/45929032 bytes (41.3%)\b\b\b\b\b\b\b\b\b\b\b\b\b\b\b\b\b\b\b\b\b\b\b\b\b\b\b\b\b\b\b21471232/45929032 bytes (46.7%)\b\b\b\b\b\b\b\b\b\b\b\b\b\b\b\b\b\b\b\b\b\b\b\b\b\b\b\b\b\b\b24117248/45929032 bytes (52.5%)\b\b\b\b\b\b\b\b\b\b\b\b\b\b\b\b\b\b\b\b\b\b\b\b\b\b\b\b\b\b\b26599424/45929032 bytes (57.9%)\b\b\b\b\b\b\b\b\b\b\b\b\b\b\b\b\b\b\b\b\b\b\b\b\b\b\b\b\b\b\b28983296/45929032 bytes (63.1%)\b\b\b\b\b\b\b\b\b\b\b\b\b\b\b\b\b\b\b\b\b\b\b\b\b\b\b\b\b\b\b31145984/45929032 bytes (67.8%)\b\b\b\b\b\b\b\b\b\b\b\b\b\b\b\b\b\b\b\b\b\b\b\b\b\b\b\b\b\b\b33710080/45929032 bytes (73.4%)\b\b\b\b\b\b\b\b\b\b\b\b\b\b\b\b\b\b\b\b\b\b\b\b\b\b\b\b\b\b\b36167680/45929032 bytes (78.7%)\b\b\b\b\b\b\b\b\b\b\b\b\b\b\b\b\b\b\b\b\b\b\b\b\b\b\b\b\b\b\b38420480/45929032 bytes (83.7%)\b\b\b\b\b\b\b\b\b\b\b\b\b\b\b\b\b\b\b\b\b\b\b\b\b\b\b\b\b\b\b40902656/45929032 bytes (89.1%)\b\b\b\b\b\b\b\b\b\b\b\b\b\b\b\b\b\b\b\b\b\b\b\b\b\b\b\b\b\b\b43556864/45929032 bytes (94.8%)\b\b\b\b\b\b\b\b\b\b\b\b\b\b\b\b\b\b\b\b\b\b\b\b\b\b\b\b\b\b\b45929032/45929032 bytes (100.0%)\n",
            "  Done\n",
            "File saved as /root/.imageio/ffmpeg/ffmpeg-linux64-v3.3.1.\n"
          ],
          "name": "stdout"
        }
      ]
    },
    {
      "cell_type": "code",
      "metadata": {
        "id": "854Y9jJ7Juw1"
      },
      "source": [
        "def extract_original_audio_wav(originalVideoName, originalAudioName, projectDir, videoDir):\n",
        "    \"\"\" Takes in the original video and extracts the audio (mono channel) in .wav format. Saves the audio to google storage.\n",
        "    \n",
        "    Arguments:\n",
        "        originalVideoName (str): Contains the name of the original video.\n",
        "        originalAudioName (str): Defines the name under which the extracted audio is going to be saved and must and with .wav\n",
        "        (i.e. \"audio.wav\").\n",
        "        projectDir (str): Name of the project folder.\n",
        "        videoDir (str): Name of the folder where the video is located (i.e. \"videoFiles\")\n",
        "    Returns:\n",
        "        void : Extracts audio and saves as .wav to google storage.\n",
        "    \"\"\"\n",
        "    try:\n",
        "        #Load the video\n",
        "\n",
        "        videoName = driveLocation + projectDir + \"/\" + videoDir + \"/\" + originalVideoName\n",
        "        originalVideo = mp.VideoFileClip(videoName)\n",
        "        \n",
        "        #Extract the audio and save it locally\n",
        "        originalVideo.audio.write_audiofile(originalAudioName, ffmpeg_params=[\"-ac\", \"1\"])\n",
        "\n",
        "        #Load the extracted audio\n",
        "        with open(originalAudioName, 'rb') as original_audio_bytes:\n",
        "            extractedAudio = original_audio_bytes.read()\n",
        "            \n",
        "        print(\"Audio successfully extracted and saved as \" + originalAudioName)\n",
        "        print(\"Proceeding to upload to storage\")\n",
        "        storage_client = storage.Client()\n",
        "        bucket = storage_client.bucket(\"syntechara-bucket\")\n",
        "        blob = bucket.blob(originalAudioName)\n",
        "\n",
        "        blob.upload_from_filename(originalAudioName, content_type=\"audio/wav\")\n",
        "        print(\"Extracted audio successfully uploaded to storage.\")    \n",
        "            \n",
        "            \n",
        "    except Exception as e:\n",
        "        print(e)\n",
        "        print(\"Something went wrong while extracting audio.\")\n",
        "        "
      ],
      "execution_count": null,
      "outputs": []
    },
    {
      "cell_type": "code",
      "metadata": {
        "id": "IHvt6nM0Juw3"
      },
      "source": [
        "def parse_google_stt(googleSpeechToTextResult):\n",
        "    \"\"\" Parses the result obtained from the STT engine into a more usable format.\n",
        "    \n",
        "    Arguments:\n",
        "        googleSpeechToTextResult: Result obtained from the STT engine after transcription\n",
        "    \n",
        "    Returns:\n",
        "        parsedData: The result returned contains the entire transcription, and every single word with its start time, end time\n",
        "        and speaker (if possible)\n",
        "        [{'transcript': 'meine letzten Zeit ...', \n",
        "         'words': [{'word': 'meine','start_time': 0.0,'end_time': 0.3,'speaker_tag': 0},\n",
        "                   {'word': 'letzten', 'start_time': 0.3, 'end_time': 0.6, 'speaker_tag': 0}\n",
        "                    ...]}]\n",
        "    \"\"\"\n",
        "    json = []\n",
        "    for section in googleSpeechToTextResult.results:\n",
        "        data = {\n",
        "            \"transcript\": section.alternatives[0].transcript,\n",
        "            \"words\": []\n",
        "        }\n",
        "        for word in section.alternatives[0].words:\n",
        "            data[\"words\"].append({\n",
        "                \"word\": word.word,\n",
        "                \"start_time\": word.start_time.total_seconds(),\n",
        "                \"end_time\": word.end_time.total_seconds(),\n",
        "                \"speaker_tag\": word.speaker_tag\n",
        "            })\n",
        "        print(data)\n",
        "        json.append(data)\n",
        "    return json\n",
        "        "
      ],
      "execution_count": null,
      "outputs": []
    },
    {
      "cell_type": "code",
      "metadata": {
        "id": "DRu5ysXTUbkA"
      },
      "source": [
        "def parse_single_speaker_sentences(parsedData, originalLanguage, pauseLength = 1):\n",
        "    \"\"\" Takes parsedData from parse_google_stt() and splits the sentences according to the speaker\n",
        "    \n",
        "    Arguments: \n",
        "        parsedData str[]: Output from parse_google_stt() \n",
        "        [{\"transcript\": \"Hello there my example\", \"words\": [{\"word\": \"Hello\", \"start_time\": 1, \"end_time\": 2, \"speaker_tag: 1}]}]\n",
        "        originalLanguage str: Defines the language code of the original video (i.e. \"de-DE\"). List of all supported languages\n",
        "        can be found at https://cloud.google.com/speech-to-text/docs/languages.\n",
        "        pauseLength float: If time between words bigger than pauseLength, we consider it a new sentence. Default value is 1s.\n",
        "    Returns:\n",
        "        parsedSentences str[]: [{\"sentence\": \"Hello there\", \"speaker\": 1, \"start_time\": 1, \"end_time\": 2.5}]\n",
        "    \n",
        "    \"\"\"\n",
        "\n",
        "    \n",
        "    def get_word(word, originalLanguage):\n",
        "        if originalLanguage == \"ja\":\n",
        "            return word.split('|')[0]\n",
        "        return word\n",
        "\n",
        "    sentences = []\n",
        "    sentence = {}\n",
        "    for result in parsedData:\n",
        "        for i, word in enumerate(result[\"words\"]):\n",
        "            wordText = get_word(word[\"word\"], originalLanguage)\n",
        "            if not sentence:\n",
        "                sentence = {\n",
        "                    originalLanguage: [wordText],\n",
        "                    \"speaker\": word[\"speaker_tag\"],\n",
        "                    \"start_time\": word[\"start_time\"],\n",
        "                    \"end_time\": word[\"end_time\"]\n",
        "                }\n",
        "            # If we have a new speaker, save the sentence and create a new one:\n",
        "            elif word[\"speaker_tag\"] != sentence[\"speaker\"]:\n",
        "                sentence[originalLanguage] = ' '.join(sentence[originalLanguage])\n",
        "                sentences.append(sentence)\n",
        "                sentence = {\n",
        "                    originalLanguage: [wordText],\n",
        "                    \"speaker\": word[\"speaker_tag\"],\n",
        "                    \"start_time\": word[\"start_time\"],\n",
        "                    \"end_time\": word[\"end_time\"]\n",
        "                }\n",
        "            # If the sentence is ended with a dot, save the sentence and create a new one:\n",
        "            elif i+1 < len(result[\"words\"]) and result[\"words\"][i-1][\"word\"][-1] == \".\":\n",
        "                sentence[originalLanguage] = \" \".join(sentence[originalLanguage])\n",
        "                sentences.append(sentence)\n",
        "                sentence = {\n",
        "                    originalLanguage: [wordText],\n",
        "                    \"speaker\": word[\"speaker_tag\"],\n",
        "                    \"start_time\": word[\"start_time\"],\n",
        "                    \"end_time\": word[\"end_time\"]\n",
        "                }\n",
        "            else:\n",
        "                sentence[originalLanguage].append(wordText)\n",
        "                sentence[\"end_time\"] = word[\"end_time\"]\n",
        "\n",
        "            if i+1 < len(result[\"words\"]):\n",
        "                # Check the amount of time between the end of the current and start of the next word\n",
        "                gapBetweenWords = float(result[\"words\"][i+1][\"start_time\"]) - float(word[\"end_time\"])\n",
        "            \n",
        "                # If greater than the defined pauseLength, treat it as a new sentence\n",
        "            if gapBetweenWords > pauseLength:\n",
        "                \n",
        "                parsedSentence[\"text\"] = \" \".join(parsedSentence[\"text\"])\n",
        "                parsedSentences.append(parsedSentence)\n",
        "                parsedSentence = {}\n",
        "                \n",
        "        if sentence:\n",
        "            sentence[originalLanguage] = ' '.join(sentence[originalLanguage])\n",
        "            sentences.append(sentence)\n",
        "            sentence = {}\n",
        "\n",
        "    return sentences"
      ],
      "execution_count": null,
      "outputs": []
    },
    {
      "cell_type": "code",
      "metadata": {
        "id": "ROfFe1e9Juw5"
      },
      "source": [
        "def transcribe(originalAudioName, originalLanguage, projectDir, speechContexts=[], speakerCount=1):\n",
        "    \"\"\" Transcribes the original audio and saves the transcription to a .txt file\n",
        "    \n",
        "    Arguments:\n",
        "        originalAudioName (str): Name under which the extracted audio was saved.\n",
        "        originalLanguage (str): Defines the language code of the original video (i.e. \"de-DE\"). List of all supported languages\n",
        "        can be found at https://cloud.google.com/speech-to-text/docs/languages.\n",
        "        projectDir (str): Name of the project folder.\n",
        "        speechContexts (str[]): Defines uncommon words that are very likely to appear in the speech. If not entered, takes the\n",
        "        default value as null.\n",
        "        speakerCount (int, optional): Defines the number of speakers and works only in English. If not entered takes the default\n",
        "        value null.\n",
        "        \n",
        "    Returns:\n",
        "        void: Writes the transcription to a .txt file\n",
        "        \n",
        "    \"\"\"    \n",
        "    try:\n",
        "        \n",
        "        diarizationConfig = speech.SpeakerDiarizationConfig(\n",
        "        enable_speaker_diarization=speakerCount if speakerCount > 1 else False,\n",
        "        )\n",
        "        \n",
        "        gcs_path = gcsPath + originalAudioName\n",
        "\n",
        "        audio = speech.RecognitionAudio(uri=gcs_path)\n",
        "        \n",
        "        config = speech.RecognitionConfig(\n",
        "                language_code=originalLanguage ,\n",
        "                enable_automatic_punctuation=True,\n",
        "                enable_word_time_offsets=True,\n",
        "                speech_contexts=[],\n",
        "                diarization_config=diarizationConfig,\n",
        "                profanity_filter=True,\n",
        "        \n",
        "            )\n",
        "        \n",
        "        client = speech.SpeechClient()\n",
        "        \n",
        "        response = client.long_running_recognize(config=config, audio=audio)\n",
        "             \n",
        "        parsedData = parse_google_stt(response.result())\n",
        "            \n",
        "        parsedSentences = parse_single_speaker_sentences(parsedData, originalLanguage)\n",
        "        \n",
        "        transcribedTextFileLocation = driveLocation + projectDir + \"/\" + originalAudioName[:-4] + \"_transcription.txt\"\n",
        "        \n",
        "        json.dump(parsedSentences, open((transcribedTextFileLocation), \"w\"))\n",
        "\n",
        "        print(\"Transcription saved to \" + transcribedTextFileLocation )\n",
        "    \n",
        "    except Exception as e:\n",
        "        print(\"Something went wrong while transcribing.\")\n",
        "        print(e)\n",
        "        "
      ],
      "execution_count": null,
      "outputs": []
    },
    {
      "cell_type": "code",
      "metadata": {
        "id": "YSFd2fiDJuw9"
      },
      "source": [
        "def translate(originalAudioName, transcriptionFileName, projectDir, targetLanguageDeepl, sourceLanguageDeepl):\n",
        "    \"\"\" Translates the content of the transcriptionFileName file from the original language to the target language, then\n",
        "        saves the translation in (transcriptionFileName + _translation.txt)\n",
        "        \n",
        "    Arguments:\n",
        "        originalAudioName (str): Name under which the extracted audio was saved.\n",
        "        transcriptionFileName (str): Name under which the transcribed speech was saved.\n",
        "        projectDir (str): Name of the project folder.\n",
        "        sourceLanguageDeepl (str): Defines the language code of the original video (\"DE\") used for transcription. List of \n",
        "        all supported languages can be found at https://www.deepl.com/docs-api/translating-text/request/ under\n",
        "        source_lang.\n",
        "        targetLanguageDeepl (str): Defines the target language code. More at https://www.deepl.com/docs-api/translating-text/request/ under\n",
        "        target_lang.\n",
        "\n",
        "        \n",
        "    Returns:\n",
        "        void: Saves the translation to (originalAudioName_translation.txt)\n",
        "    \"\"\"\n",
        "    try:\n",
        "        transcriptionFileLocationName = driveLocation + projectDir + \"/\" + transcriptionFileName\n",
        "        with open(transcriptionFileLocationName, \"r\") as text_file:\n",
        "            checkedTranscription = json.loads(text_file.read())\n",
        "        \n",
        "        translatedSentences = []\n",
        "        translatedSentence = {}\n",
        "        \n",
        "        for i, sentence in enumerate(checkedTranscription):\n",
        "            \n",
        "            r =  requests.post(url='https://api-free.deepl.com/v2/translate',\n",
        "                            data = {\n",
        "                                'source_lang' : sourceLanguageDeepl,\n",
        "                                'target_lang' : targetLanguageDeepl,  \n",
        "                                'auth_key' : '##################',\n",
        "                                'text': sentence[originalLanguage]\n",
        "                            })\n",
        "        \n",
        "            translatedJson = json.loads(r.text)\n",
        "        \n",
        "            translatedText = translatedJson[\"translations\"][0]['text']\n",
        "            print(translatedText)\n",
        "            \n",
        "            translatedSentence = {\n",
        "                    targetLanguageDeepl: translatedText,\n",
        "                    \"speaker\": sentence[\"speaker\"],\n",
        "                    \"start_time\": sentence[\"start_time\"],\n",
        "                    \"end_time\": sentence[\"end_time\"]\n",
        "                }\n",
        "            \n",
        "            translatedSentences.append(translatedSentence)\n",
        "            translatedSentence = {}\n",
        "\n",
        "        translatedFileName = driveLocation + projectDir + \"/\" + originalAudioName[:-4] + \"_translation.txt\"\n",
        "\n",
        "        json.dump(translatedSentences, open((translatedFileName), \"w\"))\n",
        "        print(\"Translated file saved to \" + translatedFileName)\n",
        "    except Exception as e:\n",
        "        print(\"Something went wrong while translating.\")\n",
        "        print(e)\n",
        "\n",
        " "
      ],
      "execution_count": null,
      "outputs": []
    },
    {
      "cell_type": "code",
      "metadata": {
        "id": "ByFawdTg60cs"
      },
      "source": [
        "def text_to_ssml(inputText):\n",
        "    \"\"\"Adds the <speak></speak> tags to the text to be synthesized. Replaces reserved characters (i.e. ' -> &apos;)\n",
        "    Arguments:\n",
        "        inputText (str): The text to which the opening and closing ssml tags will be added.\n",
        "        \n",
        "    Returns:\n",
        "        inputText (str): Text with opening and closing ssml tags added and reserved characters changed.\"\"\"\n",
        "    \n",
        "    try:\n",
        "        inputText = (inputText.replace(\"&\", \"&amp;\")).replace(\"<\", \"&lt;\").replace(\">\", \"&gt;\").replace('\"', '&quot;').replace(\"'\", '&apos;')\n",
        "        inputText = \"<speak>\" + inputText + \"</speak>\"\n",
        "        return inputText\n",
        "    except Exception as e:\n",
        "        print(e)\n",
        "        print(\"Something went wrong while adding SSML tags.\")"
      ],
      "execution_count": null,
      "outputs": []
    },
    {
      "cell_type": "code",
      "metadata": {
        "id": "SQysXkCVJuw-"
      },
      "source": [
        "def synthesize_speech_google(text, targetLanguage, targetAudioName, projectDir, audioDir, voiceName=None, speechSpeed=1):\n",
        "    \"\"\" Takes in the checked translated text and synthesizes speech in the target language. Saves \n",
        "        the speech as .mp3.\n",
        "        \n",
        "    Arguments:\n",
        "        text (str): Text to be synthesized.\n",
        "        targetLanguage (str): Defines the language code of the target audio.\n",
        "        targetAudioName (str): Name under which the audio will be saved.\n",
        "        outputDirectoryName (str): Name of the folder where the audio will be saved.\n",
        "        voiceName (str, optional): You can define the preffered voice to be used. See more \n",
        "        at https://cloud.google.com/text-to-speech/docs/voices\n",
        "        speechSpeed (int): Defaults to 1.\n",
        "       \n",
        "        \n",
        "        \n",
        "    Returns:\n",
        "        void: Saves the synthesized speech as .wav or mp3\n",
        "    \n",
        "    \"\"\"\n",
        "    try:\n",
        "            \n",
        "        #Initialize speech to text client\n",
        "        client = texttospeech.TextToSpeechClient()\n",
        "        \n",
        "        ssml_input_text = text_to_ssml(text)\n",
        "\n",
        "        #Voice settings\n",
        "        voice = texttospeech.VoiceSelectionParams(\n",
        "                    language_code=targetLanguage, name=voiceName\n",
        "                )\n",
        "\n",
        "        synthesis_ssml_input = texttospeech.SynthesisInput(ssml=ssml_input_text)\n",
        "        \n",
        "        audio_config = texttospeech.AudioConfig(\n",
        "                audio_encoding=texttospeech.AudioEncoding.MP3,\n",
        "                speaking_rate=speechSpeed\n",
        "            )\n",
        "\n",
        "        response = client.synthesize_speech(\n",
        "                input=synthesis_ssml_input,\n",
        "                voice = voice,\n",
        "                audio_config=audio_config\n",
        "            )\n",
        "        \n",
        "\n",
        "        speechFileLocation = driveLocation + projectDir + \"/\" + audioDir + \"/\" + targetAudioName\n",
        "\n",
        "        \n",
        "        with open(speechFileLocation, \"wb\") as out:\n",
        "            # Write the response to the output file.\n",
        "            out.write(response.audio_content)\n",
        "            print('Synthesized speech written as ' + speechFileLocation)\n",
        "            \n",
        "    except Exception as e:\n",
        "        print(\"Something went wrong while synthesizing the speech.\")\n",
        "        print(e)\n",
        "\n",
        "        \n",
        "        \n",
        "         "
      ],
      "execution_count": null,
      "outputs": []
    },
    {
      "cell_type": "code",
      "metadata": {
        "id": "9G80ir_8Juw_"
      },
      "source": [
        "def synthesize_timelimited_speech_google(translationFileName, projectDir, targetLanguageDeepl,targetLanguage, audioDir,voiceName=None):\n",
        "    \"\"\"Synthesizes speech within a certain time limit using Google TTS.\n",
        "    \n",
        "    Arguments:\n",
        "        originalText (str): Text to be synthesized.\n",
        "        targetLanguage (str): Defines the language code of the target audio. See more at https://cloud.google.com/text-to-speech/docs/voices\n",
        "        speechDuration (float): Time limit in seconds.\n",
        "        outputDirectoryName (str): Name of the folder where the audio will be saved.\n",
        "        voiceName (str, optional): Voice to be used.\n",
        "          \n",
        "        \n",
        "    Returns:\n",
        "        void: Saves speech in .wav format.\n",
        "    \n",
        "    \"\"\"\n",
        "    with open(driveLocation + projectDir + \"/\" + translationFileName, \"r\") as text_file:\n",
        "            checkedTranslation = json.loads(text_file.read())\n",
        "    \n",
        "    for i, sentence in enumerate(checkedTranslation):\n",
        "        audioName = str(i) + \".wav\"\n",
        "        speechDuration = sentence['end_time'] - sentence['start_time']\n",
        "        synthesizedAudioName = driveLocation + projectDir + \"/\" + audioDir + \"/\" + audioName\n",
        "        \n",
        "        baseAudio = synthesize_speech_google(sentence[targetLanguageDeepl], targetLanguage, audioName, projectDir, audioDir, voiceName, speechSpeed=1)\n",
        "\n",
        "        y, sr = librosa.load(synthesizedAudioName)\n",
        "        baseDuration = librosa.get_duration(y=y, sr=sr)\n",
        "    \n",
        "        ratio = baseDuration / speechDuration\n",
        "    \n",
        "        if ratio <= 0.8:\n",
        "            ratio = 0.8\n",
        "        \n",
        "        elif ratio > 2:\n",
        "            ratio = 2\n",
        "      \n",
        "        synthesize_speech_google(sentence[targetLanguageDeepl],targetLanguage,audioName,projectDir, audioDir, voiceName, ratio)\n",
        "    "
      ],
      "execution_count": null,
      "outputs": []
    },
    {
      "cell_type": "code",
      "metadata": {
        "id": "FVc3OkCzJuw_"
      },
      "source": [
        "def synthesize_speech_polly(text,regionName, defaultUrl, accessKey, secretAccessKey, voiceNamePolly):\n",
        "    \"\"\" AWS Polly TTS to synthesize humanlike voices. \n",
        "    \n",
        "    Arguments:\n",
        "        regionName (str): Defaults to 'us-east-2', should not be changed unless the AWS account changes.\n",
        "        defaultUrl (str): Url where request for speech synthesis are made, should not be changed unless the AWS account changes.\n",
        "        accessKey (str): Access key for the AWS services, loaded from the .csv file.\n",
        "        secretAccessKey(str): Same as accessKey.\n",
        "        voiceNamePolly (str): Voice to be used during the speech synthesis. More at https://docs.aws.amazon.com/polly/latest/dg/voicelist.html \n",
        "    \"\"\"\n",
        "    try:\n",
        "        polly = boto3.client('polly', aws_access_key_id=ACCESS_KEY, aws_secret_access_key=SECRET_KEY, region_name=regionName)\n",
        "    \n",
        "        #Load the translated text\n",
        "        #with open(\"translation.txt\", \"r\") as text_file:\n",
        "            #checkedTranslation = text_file.read() \n",
        "    \n",
        "        resp = polly.synthesize_speech(OutputFormat='mp3', Text=text, VoiceId=voiceNamePolly)\n",
        "    \n",
        "        soundBytes = resp['AudioStream'].read()\n",
        "    \n",
        "        with open(targetAudioNamePolly, \"wb\") as out:\n",
        "                # Write the response to the output file.\n",
        "                out.write(soundBytes)\n",
        "                print('Synthesized speech written as ' + targetAudioNamePolly)\n",
        "                \n",
        "    except Exception as e:\n",
        "        print(\"Something went wrong while synthesizing the speech with Polly.\")\n",
        "        print(e)"
      ],
      "execution_count": null,
      "outputs": []
    },
    {
      "cell_type": "code",
      "metadata": {
        "id": "abDN-JBuJuxA"
      },
      "source": [
        "#TODO: Figure out a way to solve word placing at proper time\n",
        "def synthesize_timelimited_speech_polly(text, regionName, defaultUrl, accessKey, secretAccessKey, voiceNamePolly, speechDuration):\n",
        "    try:\n",
        "        synthesize_speech_polly(text, regionName, defaultUrl, accessKey, secretAccessKey, voiceNamePolly)\n",
        "        print(\"First speech synthesized\")\n",
        "        y, sr = librosa.load(targetAudioNamePolly)\n",
        "        print(\"librosa loaded\")\n",
        "        baseDuration = librosa.get_duration(y=y, sr=sr)\n",
        "        \n",
        "        print(\"base duration is\", baseDuration)\n",
        "        \n",
        "        ratio = baseDuration / speechDuration\n",
        "        print(\"ratio is\", ratio)   \n",
        "    \n",
        "    \n",
        "        if ratio <= 0.8:\n",
        "            ratio = 0.8\n",
        "        \n",
        "        elif ratio > 2:\n",
        "            ratio = 2\n",
        "        \n",
        "        sy\n",
        "        \n",
        "        \n",
        "    except Exception as e:\n",
        "            print(\"Something went wrong while synthesizing timelimited speech with Polly\")"
      ],
      "execution_count": null,
      "outputs": []
    },
    {
      "cell_type": "code",
      "metadata": {
        "id": "hlvamVY0JuxA"
      },
      "source": [
        "def stitch_audio_video_google(originalVideoName, translationFileName, projectDir, audioDir, videoDir,outFileDir, overlayGain):\n",
        "    \"\"\" Combines properly placed audio with the video file and creates the dubbed video\n",
        "    \n",
        "    Arguments:\n",
        "        parsedSentences (list): Sentences parsed using parse_single_speaker_sentences function.\n",
        "        audioDir (str): Directory containing the synthesized speech audios.\n",
        "        videoDir (str): Directory containing the video file.\n",
        "        outFileDir (str): Directory that will contain the dubbed video.\n",
        "        \n",
        "    Returns:\n",
        "        void: Writes the dubbed video to the outFileDir location.\n",
        "    \"\"\"\n",
        "    with open(driveLocation + projectDir + \"/\" + translationFileName, \"r\") as text_file:\n",
        "            checkedTranslations = json.loads(text_file.read())\n",
        "    audioFiles = os.listdir(driveLocation + projectDir + \"/\" + audioDir)\n",
        "    audioFiles.sort(key=lambda x: int(x.split('.')[0]))\n",
        "    \n",
        "    movieFile = driveLocation + projectDir + \"/\" + videoDir + \"/\" + originalVideoName\n",
        "    segments = [AudioSegment.from_file(\n",
        "        os.path.join(driveLocation + projectDir + \"/\" + audioDir, x)) for x in audioFiles]\n",
        "    # Also, grab the original audio\n",
        "    dubbed = AudioSegment.from_file(movieFile)\n",
        "    \n",
        "    # Place each computer-generated audio at the correct timestamp\n",
        "    for sentence, segment in zip(checkedTranslations, segments):\n",
        "        dubbed = dubbed.overlay(\n",
        "            segment, position=sentence['start_time'] * 1000, gain_during_overlay=overlayGain)\n",
        "    # Write the final audio to a temporary output file\n",
        "    audioFile = tempfile.NamedTemporaryFile()\n",
        "    dubbed.export(audioFile)\n",
        "    audioFile.flush()\n",
        "    \n",
        "    clip = VideoFileClip(movieFile)\n",
        "    audio = AudioFileClip(audioFile.name)\n",
        "    clip = clip.set_audio(audio)\n",
        "\n",
        "    dubbedVideoName = originalVideoName[:-4] + \"_dubbed\" + originalVideoName[-4:]\n",
        "    clip.write_videofile(driveLocation + projectDir + \"/\" + videoDir + \"/\" + dubbedVideoName, codec='libx264', audio_codec='aac')\n",
        "    audioFile.close()"
      ],
      "execution_count": null,
      "outputs": []
    },
    {
      "cell_type": "code",
      "metadata": {
        "id": "sGxCOcHZngo0"
      },
      "source": [
        "\"\"\"\n",
        "    Required Inputs:\n",
        "    driveLocation (str): Contains the name of the main folder and its location in your google drive.\n",
        "    gcsPath (str): Path to the google cloud storage bucket where the extracated audio will be saved.\n",
        "\n",
        "    originalVideoName (str): Contains the name of the original video.\n",
        "    originalAudioName (str): Defines the name under which the extracted audio is going to be saved and must and with .wav\n",
        "    (i.e. \"audio.wav\").\n",
        "\n",
        "    originalLanguage (str): Defines the language code of the original video (i.e. \"de-DE\") used for transcription. List of \n",
        "    all supported languages can be found at https://cloud.google.com/speech-to-text/docs/languages .\n",
        "    targetLanguage (str): Defines the language code of the target audio.\n",
        "\n",
        "    sourceLanguageDeepl (str): Defines the language code of the source language for the DeepL translation API.\n",
        "    targetLanguageDeepl (str): Defines the language code of the target language for the DeepL translation API.\n",
        "\n",
        "    projectDir (str): Name of the directory where each separate dubbing project will be saved.\n",
        "    videoDir (str): Name of the directory where videos related to the project will be stored.\n",
        "    audioDir (str): Name of the directory where the generated audio files will be stored.\n",
        "\n",
        "    speakerCount (int, optional): Defines the number of speakers and works only in English. If not entered takes the default\n",
        "    value 1.\n",
        "    overlayGain (int): Defines how much the original audio will be silenced in comparison to the newly generated audio.\n",
        "    voiceNameGoogle (str): Defines the voice to be used for speech synthesis.\n",
        "    pauseLength (float): The amount of time between 2 consecutive words that has to pass in order to start a new sentence.\n",
        "\n",
        "    targetAudioName(str): Defines the name under which the synthesized speech will be saved.\n",
        "    targetVideoName (str):Defines the name under which the target video will be saved.\n",
        "    voiceNamePolly (str): Defines the voice to be used in Polly, more at https://docs.aws.amazon.com/polly/latest/dg/voicelist.html\n",
        "\n",
        "    transcriptionFileName (str): Name of the .txt file where the transcription is saved. It should be in the form \n",
        "    videoName + transcription (hashoshi_transcription.txt)\n",
        "    translationFileName (str): Name of the .txt file where the translation is saved. It should be in the form \n",
        "    videoName + translation (hashoshi_translation.txt)\n",
        "\"\"\"\n",
        "\n",
        "driveLocation = \"/content/gdrive/MyDrive/techara/\"\n",
        "gcsPath = \"gs://syntechara-bucket/\" \n",
        "\n",
        "originalVideoName = \"hashoshi.mp4\"\n",
        "originalAudioName = \"hashoshi.wav\"\n",
        "\n",
        "originalLanguage = \"en-US\"\n",
        "targetLanguage = \"fr-FR\"\n",
        "\n",
        "sourceLanguageDeepl = \"EN\"\n",
        "targetLanguageDeepl = \"FR\"\n",
        "\n",
        "projectDir = \"hashoshi\"\n",
        "videoDir = \"videoFiles\"\n",
        "audioDir = \"audioFiles\"\n",
        "outFileDir = \"videoFiles\"\n",
        "\n",
        "speakerCount = 1\n",
        "overlayGain = -30\n",
        "voiceNameGoogle = \"fr-FR-Wavenet-B\"\n",
        "pauseLength = 0.5\n",
        "\n",
        "transcriptionFileName = \"hashoshi_transcription.txt\"\n",
        "translationFileName = \"hashoshi_translation.txt\"\n",
        "\n",
        "#targetAudioNameWav = \"target_audio.wav\"\n",
        "#targetAudioNameMp3 = \"target_audio.mp3\"\n",
        "#targetAudioNamePolly = \"target_audio.mp3\"\n",
        "#targetVideoName = \"target_video.mp4\"\n",
        "#voiceNamePolly = \"Brian\"\n",
        "\n",
        "#AWS Polly\n",
        "\n",
        "#defaultUrl = 'https://polly.us-east-2.amazonaws.com'\n",
        "#regionName = 'us-east-2'"
      ],
      "execution_count": null,
      "outputs": []
    },
    {
      "cell_type": "code",
      "metadata": {
        "colab": {
          "base_uri": "https://localhost:8080/"
        },
        "id": "M2kkhLWicKrx",
        "outputId": "b1d766fc-711e-4df6-9af5-ed69b54ff946"
      },
      "source": [
        "#extract_original_audio_wav(\"hosk_3min.mp4\", \"hosk_3min.wav\", \"hosk\", \"videoFiles\")\n",
        "extract_original_audio_wav(originalVideoName, originalAudioName, projectDir, videoDir)"
      ],
      "execution_count": null,
      "outputs": [
        {
          "output_type": "stream",
          "text": [
            "[MoviePy] Writing audio in hashoshi.wav\n"
          ],
          "name": "stdout"
        },
        {
          "output_type": "stream",
          "text": [
            "100%|██████████| 3840/3840 [00:01<00:00, 2093.55it/s]"
          ],
          "name": "stderr"
        },
        {
          "output_type": "stream",
          "text": [
            "[MoviePy] Done.\n"
          ],
          "name": "stdout"
        },
        {
          "output_type": "stream",
          "text": [
            "\n"
          ],
          "name": "stderr"
        },
        {
          "output_type": "stream",
          "text": [
            "Audio successfully extracted and saved as hashoshi.wav\n",
            "Proceeding to upload to storage\n",
            "Extracted audio successfully uploaded to storage.\n"
          ],
          "name": "stdout"
        }
      ]
    },
    {
      "cell_type": "code",
      "metadata": {
        "colab": {
          "base_uri": "https://localhost:8080/"
        },
        "id": "fnwJf5AKpwNY",
        "outputId": "b419b0f9-cc9a-485a-9b96-ca2b520bd282"
      },
      "source": [
        "#transcribe(\"hosk_3min.wav\", \"en-US\", \"hosk\", speechContexts=[], speakerCount=1)\n",
        "transcribe(originalAudioName, originalLanguage, projectDir, speechContexts=[], speakerCount=1)"
      ],
      "execution_count": null,
      "outputs": [
        {
          "output_type": "stream",
          "text": [
            "{'transcript': \"Ladies and Gentlemen, people of the internet. Today, I want to share with you the best mobile wallet for cryptocurrency, that will help you keep your daily crypto usage, safe and secure. And by the way, if you're into cryptocurrency in blockchain, please do consider subscribing to the channel and hitting that little bell. Notification button below so you can get a heads up whenever I post new content. Thanks in advance for the further Ado. Let's hash it out.\", 'words': [{'word': 'Ladies', 'start_time': 0.0, 'end_time': 0.5, 'speaker_tag': 0}, {'word': 'and', 'start_time': 0.5, 'end_time': 0.6, 'speaker_tag': 0}, {'word': 'Gentlemen,', 'start_time': 0.6, 'end_time': 1.0, 'speaker_tag': 0}, {'word': 'people', 'start_time': 1.0, 'end_time': 1.3, 'speaker_tag': 0}, {'word': 'of', 'start_time': 1.3, 'end_time': 1.4, 'speaker_tag': 0}, {'word': 'the', 'start_time': 1.4, 'end_time': 1.5, 'speaker_tag': 0}, {'word': 'internet.', 'start_time': 1.5, 'end_time': 1.8, 'speaker_tag': 0}, {'word': 'Today,', 'start_time': 1.8, 'end_time': 2.0, 'speaker_tag': 0}, {'word': 'I', 'start_time': 2.0, 'end_time': 2.2, 'speaker_tag': 0}, {'word': 'want', 'start_time': 2.2, 'end_time': 2.4, 'speaker_tag': 0}, {'word': 'to', 'start_time': 2.4, 'end_time': 2.4, 'speaker_tag': 0}, {'word': 'share', 'start_time': 2.4, 'end_time': 2.7, 'speaker_tag': 0}, {'word': 'with', 'start_time': 2.7, 'end_time': 2.8, 'speaker_tag': 0}, {'word': 'you', 'start_time': 2.8, 'end_time': 2.9, 'speaker_tag': 0}, {'word': 'the', 'start_time': 2.9, 'end_time': 3.1, 'speaker_tag': 0}, {'word': 'best', 'start_time': 3.1, 'end_time': 3.7, 'speaker_tag': 0}, {'word': 'mobile', 'start_time': 3.7, 'end_time': 4.0, 'speaker_tag': 0}, {'word': 'wallet', 'start_time': 4.0, 'end_time': 4.5, 'speaker_tag': 0}, {'word': 'for', 'start_time': 4.5, 'end_time': 4.5, 'speaker_tag': 0}, {'word': 'cryptocurrency,', 'start_time': 4.5, 'end_time': 5.0, 'speaker_tag': 0}, {'word': 'that', 'start_time': 5.0, 'end_time': 5.6, 'speaker_tag': 0}, {'word': 'will', 'start_time': 5.6, 'end_time': 5.7, 'speaker_tag': 0}, {'word': 'help', 'start_time': 5.7, 'end_time': 5.9, 'speaker_tag': 0}, {'word': 'you', 'start_time': 5.9, 'end_time': 6.1, 'speaker_tag': 0}, {'word': 'keep', 'start_time': 6.1, 'end_time': 6.3, 'speaker_tag': 0}, {'word': 'your', 'start_time': 6.3, 'end_time': 6.4, 'speaker_tag': 0}, {'word': 'daily', 'start_time': 6.4, 'end_time': 6.9, 'speaker_tag': 0}, {'word': 'crypto', 'start_time': 6.9, 'end_time': 7.3, 'speaker_tag': 0}, {'word': 'usage,', 'start_time': 7.3, 'end_time': 7.8, 'speaker_tag': 0}, {'word': 'safe', 'start_time': 7.8, 'end_time': 8.2, 'speaker_tag': 0}, {'word': 'and', 'start_time': 8.2, 'end_time': 8.3, 'speaker_tag': 0}, {'word': 'secure.', 'start_time': 8.3, 'end_time': 8.7, 'speaker_tag': 0}, {'word': 'And', 'start_time': 8.7, 'end_time': 9.3, 'speaker_tag': 0}, {'word': 'by', 'start_time': 9.3, 'end_time': 9.4, 'speaker_tag': 0}, {'word': 'the', 'start_time': 9.4, 'end_time': 9.5, 'speaker_tag': 0}, {'word': 'way,', 'start_time': 9.5, 'end_time': 9.7, 'speaker_tag': 0}, {'word': 'if', 'start_time': 9.7, 'end_time': 9.9, 'speaker_tag': 0}, {'word': \"you're\", 'start_time': 9.9, 'end_time': 10.0, 'speaker_tag': 0}, {'word': 'into', 'start_time': 10.0, 'end_time': 10.2, 'speaker_tag': 0}, {'word': 'cryptocurrency', 'start_time': 10.2, 'end_time': 10.5, 'speaker_tag': 0}, {'word': 'in', 'start_time': 10.5, 'end_time': 11.0, 'speaker_tag': 0}, {'word': 'blockchain,', 'start_time': 11.0, 'end_time': 11.3, 'speaker_tag': 0}, {'word': 'please', 'start_time': 11.3, 'end_time': 11.8, 'speaker_tag': 0}, {'word': 'do', 'start_time': 11.8, 'end_time': 11.9, 'speaker_tag': 0}, {'word': 'consider', 'start_time': 11.9, 'end_time': 12.3, 'speaker_tag': 0}, {'word': 'subscribing', 'start_time': 12.3, 'end_time': 12.6, 'speaker_tag': 0}, {'word': 'to', 'start_time': 12.6, 'end_time': 12.9, 'speaker_tag': 0}, {'word': 'the', 'start_time': 12.9, 'end_time': 13.1, 'speaker_tag': 0}, {'word': 'channel', 'start_time': 13.1, 'end_time': 13.5, 'speaker_tag': 0}, {'word': 'and', 'start_time': 13.5, 'end_time': 13.6, 'speaker_tag': 0}, {'word': 'hitting', 'start_time': 13.6, 'end_time': 13.8, 'speaker_tag': 0}, {'word': 'that', 'start_time': 13.8, 'end_time': 13.9, 'speaker_tag': 0}, {'word': 'little', 'start_time': 13.9, 'end_time': 14.0, 'speaker_tag': 0}, {'word': 'bell.', 'start_time': 14.0, 'end_time': 14.4, 'speaker_tag': 0}, {'word': 'Notification', 'start_time': 14.4, 'end_time': 15.1, 'speaker_tag': 0}, {'word': 'button', 'start_time': 15.1, 'end_time': 15.4, 'speaker_tag': 0}, {'word': 'below', 'start_time': 15.4, 'end_time': 15.8, 'speaker_tag': 0}, {'word': 'so', 'start_time': 15.8, 'end_time': 16.1, 'speaker_tag': 0}, {'word': 'you', 'start_time': 16.1, 'end_time': 16.2, 'speaker_tag': 0}, {'word': 'can', 'start_time': 16.2, 'end_time': 16.3, 'speaker_tag': 0}, {'word': 'get', 'start_time': 16.3, 'end_time': 16.4, 'speaker_tag': 0}, {'word': 'a', 'start_time': 16.4, 'end_time': 16.4, 'speaker_tag': 0}, {'word': 'heads', 'start_time': 16.4, 'end_time': 16.7, 'speaker_tag': 0}, {'word': 'up', 'start_time': 16.7, 'end_time': 16.7, 'speaker_tag': 0}, {'word': 'whenever', 'start_time': 16.7, 'end_time': 16.9, 'speaker_tag': 0}, {'word': 'I', 'start_time': 16.9, 'end_time': 17.2, 'speaker_tag': 0}, {'word': 'post', 'start_time': 17.2, 'end_time': 17.4, 'speaker_tag': 0}, {'word': 'new', 'start_time': 17.4, 'end_time': 17.6, 'speaker_tag': 0}, {'word': 'content.', 'start_time': 17.6, 'end_time': 18.2, 'speaker_tag': 0}, {'word': 'Thanks', 'start_time': 18.2, 'end_time': 18.9, 'speaker_tag': 0}, {'word': 'in', 'start_time': 18.9, 'end_time': 19.0, 'speaker_tag': 0}, {'word': 'advance', 'start_time': 19.0, 'end_time': 19.0, 'speaker_tag': 0}, {'word': 'for', 'start_time': 19.0, 'end_time': 19.4, 'speaker_tag': 0}, {'word': 'the', 'start_time': 19.4, 'end_time': 19.4, 'speaker_tag': 0}, {'word': 'further', 'start_time': 19.4, 'end_time': 20.2, 'speaker_tag': 0}, {'word': 'Ado.', 'start_time': 20.2, 'end_time': 20.5, 'speaker_tag': 0}, {'word': \"Let's\", 'start_time': 20.5, 'end_time': 21.1, 'speaker_tag': 0}, {'word': 'hash', 'start_time': 21.1, 'end_time': 21.5, 'speaker_tag': 0}, {'word': 'it', 'start_time': 21.5, 'end_time': 21.6, 'speaker_tag': 0}, {'word': 'out.', 'start_time': 21.6, 'end_time': 21.7, 'speaker_tag': 0}]}\n",
            "{'transcript': \" On the topic of today's video is my current favorite Mobile Wallet, especially for iOS and that is every coin ever. Coin is a well-designed cryptocurrency wallet application that is available on IOS and Android that has built-in exchange features and a great option for daily use of cryptocurrency. The interface is super clean. It has everything you need right on the main page and you can quickly see a customizable list of cryptoassets price trends, and of course, the graphs for each and also tab over and see your own wallet and balances, all this is an underrated feature in and of itself because honestly many wallets have your balance on the main page and I hate that because anyone looking over my shoulder when I open the app, just to check, the prices can see my portfolio and how much I have in there, not good. So I like to be able to control that and I love that every coin by default has it in a different tab. Now, they have a pretty decent list of assets.\", 'words': [{'word': 'On', 'start_time': 32.8, 'end_time': 33.2, 'speaker_tag': 0}, {'word': 'the', 'start_time': 33.2, 'end_time': 33.3, 'speaker_tag': 0}, {'word': 'topic', 'start_time': 33.3, 'end_time': 33.6, 'speaker_tag': 0}, {'word': 'of', 'start_time': 33.6, 'end_time': 33.8, 'speaker_tag': 0}, {'word': \"today's\", 'start_time': 33.8, 'end_time': 34.1, 'speaker_tag': 0}, {'word': 'video', 'start_time': 34.1, 'end_time': 34.3, 'speaker_tag': 0}, {'word': 'is', 'start_time': 34.3, 'end_time': 34.5, 'speaker_tag': 0}, {'word': 'my', 'start_time': 34.5, 'end_time': 34.7, 'speaker_tag': 0}, {'word': 'current', 'start_time': 34.7, 'end_time': 35.1, 'speaker_tag': 0}, {'word': 'favorite', 'start_time': 35.1, 'end_time': 35.5, 'speaker_tag': 0}, {'word': 'Mobile', 'start_time': 35.5, 'end_time': 35.9, 'speaker_tag': 0}, {'word': 'Wallet,', 'start_time': 35.9, 'end_time': 36.5, 'speaker_tag': 0}, {'word': 'especially', 'start_time': 36.5, 'end_time': 36.8, 'speaker_tag': 0}, {'word': 'for', 'start_time': 36.8, 'end_time': 37.1, 'speaker_tag': 0}, {'word': 'iOS', 'start_time': 37.1, 'end_time': 37.7, 'speaker_tag': 0}, {'word': 'and', 'start_time': 37.7, 'end_time': 37.9, 'speaker_tag': 0}, {'word': 'that', 'start_time': 37.9, 'end_time': 38.1, 'speaker_tag': 0}, {'word': 'is', 'start_time': 38.1, 'end_time': 38.4, 'speaker_tag': 0}, {'word': 'every', 'start_time': 38.4, 'end_time': 38.8, 'speaker_tag': 0}, {'word': 'coin', 'start_time': 38.8, 'end_time': 39.1, 'speaker_tag': 0}, {'word': 'ever.', 'start_time': 39.1, 'end_time': 39.9, 'speaker_tag': 0}, {'word': 'Coin', 'start_time': 39.9, 'end_time': 40.1, 'speaker_tag': 0}, {'word': 'is', 'start_time': 40.1, 'end_time': 40.2, 'speaker_tag': 0}, {'word': 'a', 'start_time': 40.2, 'end_time': 40.3, 'speaker_tag': 0}, {'word': 'well-designed', 'start_time': 40.3, 'end_time': 40.9, 'speaker_tag': 0}, {'word': 'cryptocurrency', 'start_time': 40.9, 'end_time': 41.6, 'speaker_tag': 0}, {'word': 'wallet', 'start_time': 41.6, 'end_time': 41.8, 'speaker_tag': 0}, {'word': 'application', 'start_time': 41.8, 'end_time': 42.7, 'speaker_tag': 0}, {'word': 'that', 'start_time': 42.7, 'end_time': 42.9, 'speaker_tag': 0}, {'word': 'is', 'start_time': 42.9, 'end_time': 43.0, 'speaker_tag': 0}, {'word': 'available', 'start_time': 43.0, 'end_time': 43.3, 'speaker_tag': 0}, {'word': 'on', 'start_time': 43.3, 'end_time': 43.6, 'speaker_tag': 0}, {'word': 'IOS', 'start_time': 43.6, 'end_time': 44.1, 'speaker_tag': 0}, {'word': 'and', 'start_time': 44.1, 'end_time': 44.2, 'speaker_tag': 0}, {'word': 'Android', 'start_time': 44.2, 'end_time': 44.5, 'speaker_tag': 0}, {'word': 'that', 'start_time': 44.5, 'end_time': 45.5, 'speaker_tag': 0}, {'word': 'has', 'start_time': 45.5, 'end_time': 45.7, 'speaker_tag': 0}, {'word': 'built-in', 'start_time': 45.7, 'end_time': 46.2, 'speaker_tag': 0}, {'word': 'exchange', 'start_time': 46.2, 'end_time': 46.6, 'speaker_tag': 0}, {'word': 'features', 'start_time': 46.6, 'end_time': 47.1, 'speaker_tag': 0}, {'word': 'and', 'start_time': 47.1, 'end_time': 47.8, 'speaker_tag': 0}, {'word': 'a', 'start_time': 47.8, 'end_time': 47.9, 'speaker_tag': 0}, {'word': 'great', 'start_time': 47.9, 'end_time': 48.3, 'speaker_tag': 0}, {'word': 'option', 'start_time': 48.3, 'end_time': 48.7, 'speaker_tag': 0}, {'word': 'for', 'start_time': 48.7, 'end_time': 48.9, 'speaker_tag': 0}, {'word': 'daily', 'start_time': 48.9, 'end_time': 49.3, 'speaker_tag': 0}, {'word': 'use', 'start_time': 49.3, 'end_time': 49.4, 'speaker_tag': 0}, {'word': 'of', 'start_time': 49.4, 'end_time': 49.6, 'speaker_tag': 0}, {'word': 'cryptocurrency.', 'start_time': 49.6, 'end_time': 50.4, 'speaker_tag': 0}, {'word': 'The', 'start_time': 50.4, 'end_time': 51.1, 'speaker_tag': 0}, {'word': 'interface', 'start_time': 51.1, 'end_time': 51.6, 'speaker_tag': 0}, {'word': 'is', 'start_time': 51.6, 'end_time': 51.7, 'speaker_tag': 0}, {'word': 'super', 'start_time': 51.7, 'end_time': 52.0, 'speaker_tag': 0}, {'word': 'clean.', 'start_time': 52.0, 'end_time': 52.5, 'speaker_tag': 0}, {'word': 'It', 'start_time': 52.5, 'end_time': 52.6, 'speaker_tag': 0}, {'word': 'has', 'start_time': 52.6, 'end_time': 52.8, 'speaker_tag': 0}, {'word': 'everything', 'start_time': 52.8, 'end_time': 53.3, 'speaker_tag': 0}, {'word': 'you', 'start_time': 53.3, 'end_time': 53.5, 'speaker_tag': 0}, {'word': 'need', 'start_time': 53.5, 'end_time': 53.8, 'speaker_tag': 0}, {'word': 'right', 'start_time': 53.8, 'end_time': 54.0, 'speaker_tag': 0}, {'word': 'on', 'start_time': 54.0, 'end_time': 54.2, 'speaker_tag': 0}, {'word': 'the', 'start_time': 54.2, 'end_time': 54.3, 'speaker_tag': 0}, {'word': 'main', 'start_time': 54.3, 'end_time': 54.4, 'speaker_tag': 0}, {'word': 'page', 'start_time': 54.4, 'end_time': 54.7, 'speaker_tag': 0}, {'word': 'and', 'start_time': 54.7, 'end_time': 55.2, 'speaker_tag': 0}, {'word': 'you', 'start_time': 55.2, 'end_time': 55.3, 'speaker_tag': 0}, {'word': 'can', 'start_time': 55.3, 'end_time': 55.5, 'speaker_tag': 0}, {'word': 'quickly', 'start_time': 55.5, 'end_time': 55.7, 'speaker_tag': 0}, {'word': 'see', 'start_time': 55.7, 'end_time': 56.0, 'speaker_tag': 0}, {'word': 'a', 'start_time': 56.0, 'end_time': 56.1, 'speaker_tag': 0}, {'word': 'customizable', 'start_time': 56.1, 'end_time': 57.1, 'speaker_tag': 0}, {'word': 'list', 'start_time': 57.1, 'end_time': 57.3, 'speaker_tag': 0}, {'word': 'of', 'start_time': 57.3, 'end_time': 57.5, 'speaker_tag': 0}, {'word': 'cryptoassets', 'start_time': 57.5, 'end_time': 58.0, 'speaker_tag': 0}, {'word': 'price', 'start_time': 58.0, 'end_time': 58.9, 'speaker_tag': 0}, {'word': 'trends,', 'start_time': 58.9, 'end_time': 59.4, 'speaker_tag': 0}, {'word': 'and', 'start_time': 59.4, 'end_time': 59.9, 'speaker_tag': 0}, {'word': 'of', 'start_time': 59.9, 'end_time': 60.0, 'speaker_tag': 0}, {'word': 'course,', 'start_time': 60.0, 'end_time': 60.3, 'speaker_tag': 0}, {'word': 'the', 'start_time': 60.3, 'end_time': 60.5, 'speaker_tag': 0}, {'word': 'graphs', 'start_time': 60.5, 'end_time': 60.9, 'speaker_tag': 0}, {'word': 'for', 'start_time': 60.9, 'end_time': 61.0, 'speaker_tag': 0}, {'word': 'each', 'start_time': 61.0, 'end_time': 61.4, 'speaker_tag': 0}, {'word': 'and', 'start_time': 61.4, 'end_time': 61.9, 'speaker_tag': 0}, {'word': 'also', 'start_time': 61.9, 'end_time': 62.2, 'speaker_tag': 0}, {'word': 'tab', 'start_time': 62.2, 'end_time': 62.5, 'speaker_tag': 0}, {'word': 'over', 'start_time': 62.5, 'end_time': 62.7, 'speaker_tag': 0}, {'word': 'and', 'start_time': 62.7, 'end_time': 63.1, 'speaker_tag': 0}, {'word': 'see', 'start_time': 63.1, 'end_time': 63.3, 'speaker_tag': 0}, {'word': 'your', 'start_time': 63.3, 'end_time': 63.4, 'speaker_tag': 0}, {'word': 'own', 'start_time': 63.4, 'end_time': 63.6, 'speaker_tag': 0}, {'word': 'wallet', 'start_time': 63.6, 'end_time': 63.9, 'speaker_tag': 0}, {'word': 'and', 'start_time': 63.9, 'end_time': 64.3, 'speaker_tag': 0}, {'word': 'balances,', 'start_time': 64.3, 'end_time': 64.9, 'speaker_tag': 0}, {'word': 'all', 'start_time': 64.9, 'end_time': 65.6, 'speaker_tag': 0}, {'word': 'this', 'start_time': 65.6, 'end_time': 65.7, 'speaker_tag': 0}, {'word': 'is', 'start_time': 65.7, 'end_time': 65.8, 'speaker_tag': 0}, {'word': 'an', 'start_time': 65.8, 'end_time': 65.9, 'speaker_tag': 0}, {'word': 'underrated', 'start_time': 65.9, 'end_time': 66.2, 'speaker_tag': 0}, {'word': 'feature', 'start_time': 66.2, 'end_time': 66.7, 'speaker_tag': 0}, {'word': 'in', 'start_time': 66.7, 'end_time': 66.9, 'speaker_tag': 0}, {'word': 'and', 'start_time': 66.9, 'end_time': 67.0, 'speaker_tag': 0}, {'word': 'of', 'start_time': 67.0, 'end_time': 67.1, 'speaker_tag': 0}, {'word': 'itself', 'start_time': 67.1, 'end_time': 67.2, 'speaker_tag': 0}, {'word': 'because', 'start_time': 67.2, 'end_time': 68.0, 'speaker_tag': 0}, {'word': 'honestly', 'start_time': 68.0, 'end_time': 69.1, 'speaker_tag': 0}, {'word': 'many', 'start_time': 69.1, 'end_time': 69.6, 'speaker_tag': 0}, {'word': 'wallets', 'start_time': 69.6, 'end_time': 69.9, 'speaker_tag': 0}, {'word': 'have', 'start_time': 69.9, 'end_time': 70.1, 'speaker_tag': 0}, {'word': 'your', 'start_time': 70.1, 'end_time': 70.3, 'speaker_tag': 0}, {'word': 'balance', 'start_time': 70.3, 'end_time': 70.5, 'speaker_tag': 0}, {'word': 'on', 'start_time': 70.5, 'end_time': 70.7, 'speaker_tag': 0}, {'word': 'the', 'start_time': 70.7, 'end_time': 70.8, 'speaker_tag': 0}, {'word': 'main', 'start_time': 70.8, 'end_time': 71.1, 'speaker_tag': 0}, {'word': 'page', 'start_time': 71.1, 'end_time': 71.2, 'speaker_tag': 0}, {'word': 'and', 'start_time': 71.2, 'end_time': 71.8, 'speaker_tag': 0}, {'word': 'I', 'start_time': 71.8, 'end_time': 72.0, 'speaker_tag': 0}, {'word': 'hate', 'start_time': 72.0, 'end_time': 72.2, 'speaker_tag': 0}, {'word': 'that', 'start_time': 72.2, 'end_time': 72.3, 'speaker_tag': 0}, {'word': 'because', 'start_time': 72.3, 'end_time': 72.8, 'speaker_tag': 0}, {'word': 'anyone', 'start_time': 72.8, 'end_time': 73.4, 'speaker_tag': 0}, {'word': 'looking', 'start_time': 73.4, 'end_time': 73.7, 'speaker_tag': 0}, {'word': 'over', 'start_time': 73.7, 'end_time': 73.9, 'speaker_tag': 0}, {'word': 'my', 'start_time': 73.9, 'end_time': 74.0, 'speaker_tag': 0}, {'word': 'shoulder', 'start_time': 74.0, 'end_time': 74.1, 'speaker_tag': 0}, {'word': 'when', 'start_time': 74.1, 'end_time': 74.5, 'speaker_tag': 0}, {'word': 'I', 'start_time': 74.5, 'end_time': 74.5, 'speaker_tag': 0}, {'word': 'open', 'start_time': 74.5, 'end_time': 74.8, 'speaker_tag': 0}, {'word': 'the', 'start_time': 74.8, 'end_time': 74.9, 'speaker_tag': 0}, {'word': 'app,', 'start_time': 74.9, 'end_time': 75.0, 'speaker_tag': 0}, {'word': 'just', 'start_time': 75.0, 'end_time': 75.2, 'speaker_tag': 0}, {'word': 'to', 'start_time': 75.2, 'end_time': 75.3, 'speaker_tag': 0}, {'word': 'check,', 'start_time': 75.3, 'end_time': 75.6, 'speaker_tag': 0}, {'word': 'the', 'start_time': 75.6, 'end_time': 75.6, 'speaker_tag': 0}, {'word': 'prices', 'start_time': 75.6, 'end_time': 76.0, 'speaker_tag': 0}, {'word': 'can', 'start_time': 76.0, 'end_time': 76.3, 'speaker_tag': 0}, {'word': 'see', 'start_time': 76.3, 'end_time': 76.6, 'speaker_tag': 0}, {'word': 'my', 'start_time': 76.6, 'end_time': 76.7, 'speaker_tag': 0}, {'word': 'portfolio', 'start_time': 76.7, 'end_time': 77.5, 'speaker_tag': 0}, {'word': 'and', 'start_time': 77.5, 'end_time': 77.6, 'speaker_tag': 0}, {'word': 'how', 'start_time': 77.6, 'end_time': 77.8, 'speaker_tag': 0}, {'word': 'much', 'start_time': 77.8, 'end_time': 78.0, 'speaker_tag': 0}, {'word': 'I', 'start_time': 78.0, 'end_time': 78.1, 'speaker_tag': 0}, {'word': 'have', 'start_time': 78.1, 'end_time': 78.4, 'speaker_tag': 0}, {'word': 'in', 'start_time': 78.4, 'end_time': 78.6, 'speaker_tag': 0}, {'word': 'there,', 'start_time': 78.6, 'end_time': 78.8, 'speaker_tag': 0}, {'word': 'not', 'start_time': 78.8, 'end_time': 79.5, 'speaker_tag': 0}, {'word': 'good.', 'start_time': 79.5, 'end_time': 79.9, 'speaker_tag': 0}, {'word': 'So', 'start_time': 79.9, 'end_time': 80.3, 'speaker_tag': 0}, {'word': 'I', 'start_time': 80.3, 'end_time': 80.5, 'speaker_tag': 0}, {'word': 'like', 'start_time': 80.5, 'end_time': 80.6, 'speaker_tag': 0}, {'word': 'to', 'start_time': 80.6, 'end_time': 80.7, 'speaker_tag': 0}, {'word': 'be', 'start_time': 80.7, 'end_time': 80.8, 'speaker_tag': 0}, {'word': 'able', 'start_time': 80.8, 'end_time': 80.9, 'speaker_tag': 0}, {'word': 'to', 'start_time': 80.9, 'end_time': 81.1, 'speaker_tag': 0}, {'word': 'control', 'start_time': 81.1, 'end_time': 81.2, 'speaker_tag': 0}, {'word': 'that', 'start_time': 81.2, 'end_time': 81.6, 'speaker_tag': 0}, {'word': 'and', 'start_time': 81.6, 'end_time': 81.8, 'speaker_tag': 0}, {'word': 'I', 'start_time': 81.8, 'end_time': 81.8, 'speaker_tag': 0}, {'word': 'love', 'start_time': 81.8, 'end_time': 81.9, 'speaker_tag': 0}, {'word': 'that', 'start_time': 81.9, 'end_time': 82.1, 'speaker_tag': 0}, {'word': 'every', 'start_time': 82.1, 'end_time': 82.4, 'speaker_tag': 0}, {'word': 'coin', 'start_time': 82.4, 'end_time': 82.6, 'speaker_tag': 0}, {'word': 'by', 'start_time': 82.6, 'end_time': 82.8, 'speaker_tag': 0}, {'word': 'default', 'start_time': 82.8, 'end_time': 83.1, 'speaker_tag': 0}, {'word': 'has', 'start_time': 83.1, 'end_time': 83.5, 'speaker_tag': 0}, {'word': 'it', 'start_time': 83.5, 'end_time': 83.7, 'speaker_tag': 0}, {'word': 'in', 'start_time': 83.7, 'end_time': 83.8, 'speaker_tag': 0}, {'word': 'a', 'start_time': 83.8, 'end_time': 83.9, 'speaker_tag': 0}, {'word': 'different', 'start_time': 83.9, 'end_time': 84.1, 'speaker_tag': 0}, {'word': 'tab.', 'start_time': 84.1, 'end_time': 84.6, 'speaker_tag': 0}, {'word': 'Now,', 'start_time': 84.6, 'end_time': 85.6, 'speaker_tag': 0}, {'word': 'they', 'start_time': 85.6, 'end_time': 85.7, 'speaker_tag': 0}, {'word': 'have', 'start_time': 85.7, 'end_time': 85.9, 'speaker_tag': 0}, {'word': 'a', 'start_time': 85.9, 'end_time': 86.0, 'speaker_tag': 0}, {'word': 'pretty', 'start_time': 86.0, 'end_time': 86.2, 'speaker_tag': 0}, {'word': 'decent', 'start_time': 86.2, 'end_time': 86.6, 'speaker_tag': 0}, {'word': 'list', 'start_time': 86.6, 'end_time': 86.8, 'speaker_tag': 0}, {'word': 'of', 'start_time': 86.8, 'end_time': 86.8, 'speaker_tag': 0}, {'word': 'assets.', 'start_time': 86.8, 'end_time': 87.2, 'speaker_tag': 0}]}\n",
            "{'transcript': \" Or did at the moment and that list is continually growing and I'll show you that list here. But of course, if you have one that you want supported on ever going to let me know in the comments below and I shared with the teeth. Another thing I used quite often is the price. Alerts functionality to help. Keep me updated on where the prices are moving. And in my experience, these notifications have always come at the appropriate times. And I'm not seeing really, really delayed responses to price movement. Of course, these are features that one would come to expect from a good mobile wallet, but you'd be surprised at how overcomplicated. These, I'll be at simple features, can be calm on some mobile apps. I love the Simplicity here. Since I use this primarily as a day-to-day wallet, if I want to move ether to metamask or send a friend, a payment using crypto, I turn to every coin and to be honest with you, the Simplicity of the wallet is what makes it a pleasure to use. Now there is a massive underrated feature in every coin. That makes it my top pick by a large margin, so stay tuned for that. But let's talk about one more thing first before we get there.\", 'words': [{'word': 'Or', 'start_time': 87.3, 'end_time': 87.5, 'speaker_tag': 0}, {'word': 'did', 'start_time': 87.5, 'end_time': 87.7, 'speaker_tag': 0}, {'word': 'at', 'start_time': 87.7, 'end_time': 87.8, 'speaker_tag': 0}, {'word': 'the', 'start_time': 87.8, 'end_time': 87.9, 'speaker_tag': 0}, {'word': 'moment', 'start_time': 87.9, 'end_time': 88.3, 'speaker_tag': 0}, {'word': 'and', 'start_time': 88.3, 'end_time': 88.4, 'speaker_tag': 0}, {'word': 'that', 'start_time': 88.4, 'end_time': 88.6, 'speaker_tag': 0}, {'word': 'list', 'start_time': 88.6, 'end_time': 88.9, 'speaker_tag': 0}, {'word': 'is', 'start_time': 88.9, 'end_time': 89.0, 'speaker_tag': 0}, {'word': 'continually', 'start_time': 89.0, 'end_time': 89.7, 'speaker_tag': 0}, {'word': 'growing', 'start_time': 89.7, 'end_time': 90.1, 'speaker_tag': 0}, {'word': 'and', 'start_time': 90.1, 'end_time': 90.8, 'speaker_tag': 0}, {'word': \"I'll\", 'start_time': 90.8, 'end_time': 90.9, 'speaker_tag': 0}, {'word': 'show', 'start_time': 90.9, 'end_time': 91.1, 'speaker_tag': 0}, {'word': 'you', 'start_time': 91.1, 'end_time': 91.2, 'speaker_tag': 0}, {'word': 'that', 'start_time': 91.2, 'end_time': 91.3, 'speaker_tag': 0}, {'word': 'list', 'start_time': 91.3, 'end_time': 91.6, 'speaker_tag': 0}, {'word': 'here.', 'start_time': 91.6, 'end_time': 91.8, 'speaker_tag': 0}, {'word': 'But', 'start_time': 91.8, 'end_time': 92.5, 'speaker_tag': 0}, {'word': 'of', 'start_time': 92.5, 'end_time': 92.6, 'speaker_tag': 0}, {'word': 'course,', 'start_time': 92.6, 'end_time': 92.8, 'speaker_tag': 0}, {'word': 'if', 'start_time': 92.8, 'end_time': 93.0, 'speaker_tag': 0}, {'word': 'you', 'start_time': 93.0, 'end_time': 93.1, 'speaker_tag': 0}, {'word': 'have', 'start_time': 93.1, 'end_time': 93.3, 'speaker_tag': 0}, {'word': 'one', 'start_time': 93.3, 'end_time': 93.6, 'speaker_tag': 0}, {'word': 'that', 'start_time': 93.6, 'end_time': 93.7, 'speaker_tag': 0}, {'word': 'you', 'start_time': 93.7, 'end_time': 93.9, 'speaker_tag': 0}, {'word': 'want', 'start_time': 93.9, 'end_time': 94.3, 'speaker_tag': 0}, {'word': 'supported', 'start_time': 94.3, 'end_time': 94.9, 'speaker_tag': 0}, {'word': 'on', 'start_time': 94.9, 'end_time': 95.0, 'speaker_tag': 0}, {'word': 'ever', 'start_time': 95.0, 'end_time': 95.1, 'speaker_tag': 0}, {'word': 'going', 'start_time': 95.1, 'end_time': 95.4, 'speaker_tag': 0}, {'word': 'to', 'start_time': 95.4, 'end_time': 95.5, 'speaker_tag': 0}, {'word': 'let', 'start_time': 95.5, 'end_time': 95.6, 'speaker_tag': 0}, {'word': 'me', 'start_time': 95.6, 'end_time': 95.7, 'speaker_tag': 0}, {'word': 'know', 'start_time': 95.7, 'end_time': 95.8, 'speaker_tag': 0}, {'word': 'in', 'start_time': 95.8, 'end_time': 95.9, 'speaker_tag': 0}, {'word': 'the', 'start_time': 95.9, 'end_time': 96.0, 'speaker_tag': 0}, {'word': 'comments', 'start_time': 96.0, 'end_time': 96.3, 'speaker_tag': 0}, {'word': 'below', 'start_time': 96.3, 'end_time': 96.4, 'speaker_tag': 0}, {'word': 'and', 'start_time': 96.4, 'end_time': 96.7, 'speaker_tag': 0}, {'word': 'I', 'start_time': 96.7, 'end_time': 96.9, 'speaker_tag': 0}, {'word': 'shared', 'start_time': 96.9, 'end_time': 97.2, 'speaker_tag': 0}, {'word': 'with', 'start_time': 97.2, 'end_time': 97.3, 'speaker_tag': 0}, {'word': 'the', 'start_time': 97.3, 'end_time': 97.4, 'speaker_tag': 0}, {'word': 'teeth.', 'start_time': 97.4, 'end_time': 97.8, 'speaker_tag': 0}, {'word': 'Another', 'start_time': 97.8, 'end_time': 98.2, 'speaker_tag': 0}, {'word': 'thing', 'start_time': 98.2, 'end_time': 98.4, 'speaker_tag': 0}, {'word': 'I', 'start_time': 98.4, 'end_time': 98.5, 'speaker_tag': 0}, {'word': 'used', 'start_time': 98.5, 'end_time': 98.8, 'speaker_tag': 0}, {'word': 'quite', 'start_time': 98.8, 'end_time': 98.9, 'speaker_tag': 0}, {'word': 'often', 'start_time': 98.9, 'end_time': 99.3, 'speaker_tag': 0}, {'word': 'is', 'start_time': 99.3, 'end_time': 99.6, 'speaker_tag': 0}, {'word': 'the', 'start_time': 99.6, 'end_time': 99.8, 'speaker_tag': 0}, {'word': 'price.', 'start_time': 99.8, 'end_time': 100.2, 'speaker_tag': 0}, {'word': 'Alerts', 'start_time': 100.2, 'end_time': 100.5, 'speaker_tag': 0}, {'word': 'functionality', 'start_time': 100.5, 'end_time': 101.4, 'speaker_tag': 0}, {'word': 'to', 'start_time': 101.4, 'end_time': 101.5, 'speaker_tag': 0}, {'word': 'help.', 'start_time': 101.5, 'end_time': 101.7, 'speaker_tag': 0}, {'word': 'Keep', 'start_time': 101.7, 'end_time': 101.9, 'speaker_tag': 0}, {'word': 'me', 'start_time': 101.9, 'end_time': 102.0, 'speaker_tag': 0}, {'word': 'updated', 'start_time': 102.0, 'end_time': 102.4, 'speaker_tag': 0}, {'word': 'on', 'start_time': 102.4, 'end_time': 102.5, 'speaker_tag': 0}, {'word': 'where', 'start_time': 102.5, 'end_time': 102.6, 'speaker_tag': 0}, {'word': 'the', 'start_time': 102.6, 'end_time': 102.8, 'speaker_tag': 0}, {'word': 'prices', 'start_time': 102.8, 'end_time': 103.2, 'speaker_tag': 0}, {'word': 'are', 'start_time': 103.2, 'end_time': 103.3, 'speaker_tag': 0}, {'word': 'moving.', 'start_time': 103.3, 'end_time': 103.8, 'speaker_tag': 0}, {'word': 'And', 'start_time': 103.8, 'end_time': 104.3, 'speaker_tag': 0}, {'word': 'in', 'start_time': 104.3, 'end_time': 104.3, 'speaker_tag': 0}, {'word': 'my', 'start_time': 104.3, 'end_time': 104.5, 'speaker_tag': 0}, {'word': 'experience,', 'start_time': 104.5, 'end_time': 104.6, 'speaker_tag': 0}, {'word': 'these', 'start_time': 104.6, 'end_time': 105.1, 'speaker_tag': 0}, {'word': 'notifications', 'start_time': 105.1, 'end_time': 105.4, 'speaker_tag': 0}, {'word': 'have', 'start_time': 105.4, 'end_time': 106.0, 'speaker_tag': 0}, {'word': 'always', 'start_time': 106.0, 'end_time': 106.3, 'speaker_tag': 0}, {'word': 'come', 'start_time': 106.3, 'end_time': 106.7, 'speaker_tag': 0}, {'word': 'at', 'start_time': 106.7, 'end_time': 107.2, 'speaker_tag': 0}, {'word': 'the', 'start_time': 107.2, 'end_time': 107.3, 'speaker_tag': 0}, {'word': 'appropriate', 'start_time': 107.3, 'end_time': 107.6, 'speaker_tag': 0}, {'word': 'times.', 'start_time': 107.6, 'end_time': 108.2, 'speaker_tag': 0}, {'word': 'And', 'start_time': 108.2, 'end_time': 108.3, 'speaker_tag': 0}, {'word': \"I'm\", 'start_time': 108.3, 'end_time': 108.4, 'speaker_tag': 0}, {'word': 'not', 'start_time': 108.4, 'end_time': 108.6, 'speaker_tag': 0}, {'word': 'seeing', 'start_time': 108.6, 'end_time': 109.0, 'speaker_tag': 0}, {'word': 'really,', 'start_time': 109.0, 'end_time': 109.3, 'speaker_tag': 0}, {'word': 'really', 'start_time': 109.3, 'end_time': 109.6, 'speaker_tag': 0}, {'word': 'delayed', 'start_time': 109.6, 'end_time': 109.9, 'speaker_tag': 0}, {'word': 'responses', 'start_time': 109.9, 'end_time': 110.5, 'speaker_tag': 0}, {'word': 'to', 'start_time': 110.5, 'end_time': 110.6, 'speaker_tag': 0}, {'word': 'price', 'start_time': 110.6, 'end_time': 110.9, 'speaker_tag': 0}, {'word': 'movement.', 'start_time': 110.9, 'end_time': 111.4, 'speaker_tag': 0}, {'word': 'Of', 'start_time': 111.4, 'end_time': 112.0, 'speaker_tag': 0}, {'word': 'course,', 'start_time': 112.0, 'end_time': 112.3, 'speaker_tag': 0}, {'word': 'these', 'start_time': 112.3, 'end_time': 112.5, 'speaker_tag': 0}, {'word': 'are', 'start_time': 112.5, 'end_time': 112.6, 'speaker_tag': 0}, {'word': 'features', 'start_time': 112.6, 'end_time': 113.0, 'speaker_tag': 0}, {'word': 'that', 'start_time': 113.0, 'end_time': 113.2, 'speaker_tag': 0}, {'word': 'one', 'start_time': 113.2, 'end_time': 113.4, 'speaker_tag': 0}, {'word': 'would', 'start_time': 113.4, 'end_time': 113.6, 'speaker_tag': 0}, {'word': 'come', 'start_time': 113.6, 'end_time': 113.8, 'speaker_tag': 0}, {'word': 'to', 'start_time': 113.8, 'end_time': 113.8, 'speaker_tag': 0}, {'word': 'expect', 'start_time': 113.8, 'end_time': 114.2, 'speaker_tag': 0}, {'word': 'from', 'start_time': 114.2, 'end_time': 114.5, 'speaker_tag': 0}, {'word': 'a', 'start_time': 114.5, 'end_time': 114.6, 'speaker_tag': 0}, {'word': 'good', 'start_time': 114.6, 'end_time': 114.8, 'speaker_tag': 0}, {'word': 'mobile', 'start_time': 114.8, 'end_time': 115.1, 'speaker_tag': 0}, {'word': 'wallet,', 'start_time': 115.1, 'end_time': 115.6, 'speaker_tag': 0}, {'word': 'but', 'start_time': 115.6, 'end_time': 115.9, 'speaker_tag': 0}, {'word': \"you'd\", 'start_time': 115.9, 'end_time': 116.1, 'speaker_tag': 0}, {'word': 'be', 'start_time': 116.1, 'end_time': 116.2, 'speaker_tag': 0}, {'word': 'surprised', 'start_time': 116.2, 'end_time': 116.6, 'speaker_tag': 0}, {'word': 'at', 'start_time': 116.6, 'end_time': 116.7, 'speaker_tag': 0}, {'word': 'how', 'start_time': 116.7, 'end_time': 116.8, 'speaker_tag': 0}, {'word': 'overcomplicated.', 'start_time': 116.8, 'end_time': 117.9, 'speaker_tag': 0}, {'word': 'These,', 'start_time': 117.9, 'end_time': 118.1, 'speaker_tag': 0}, {'word': \"I'll\", 'start_time': 118.1, 'end_time': 118.5, 'speaker_tag': 0}, {'word': 'be', 'start_time': 118.5, 'end_time': 118.7, 'speaker_tag': 0}, {'word': 'at', 'start_time': 118.7, 'end_time': 118.8, 'speaker_tag': 0}, {'word': 'simple', 'start_time': 118.8, 'end_time': 119.2, 'speaker_tag': 0}, {'word': 'features,', 'start_time': 119.2, 'end_time': 119.7, 'speaker_tag': 0}, {'word': 'can', 'start_time': 119.7, 'end_time': 119.8, 'speaker_tag': 0}, {'word': 'be', 'start_time': 119.8, 'end_time': 119.9, 'speaker_tag': 0}, {'word': 'calm', 'start_time': 119.9, 'end_time': 120.3, 'speaker_tag': 0}, {'word': 'on', 'start_time': 120.3, 'end_time': 120.5, 'speaker_tag': 0}, {'word': 'some', 'start_time': 120.5, 'end_time': 120.9, 'speaker_tag': 0}, {'word': 'mobile', 'start_time': 120.9, 'end_time': 121.1, 'speaker_tag': 0}, {'word': 'apps.', 'start_time': 121.1, 'end_time': 121.6, 'speaker_tag': 0}, {'word': 'I', 'start_time': 121.6, 'end_time': 122.0, 'speaker_tag': 0}, {'word': 'love', 'start_time': 122.0, 'end_time': 122.3, 'speaker_tag': 0}, {'word': 'the', 'start_time': 122.3, 'end_time': 122.4, 'speaker_tag': 0}, {'word': 'Simplicity', 'start_time': 122.4, 'end_time': 122.6, 'speaker_tag': 0}, {'word': 'here.', 'start_time': 122.6, 'end_time': 123.2, 'speaker_tag': 0}, {'word': 'Since', 'start_time': 123.2, 'end_time': 123.5, 'speaker_tag': 0}, {'word': 'I', 'start_time': 123.5, 'end_time': 123.6, 'speaker_tag': 0}, {'word': 'use', 'start_time': 123.6, 'end_time': 124.0, 'speaker_tag': 0}, {'word': 'this', 'start_time': 124.0, 'end_time': 124.2, 'speaker_tag': 0}, {'word': 'primarily', 'start_time': 124.2, 'end_time': 124.7, 'speaker_tag': 0}, {'word': 'as', 'start_time': 124.7, 'end_time': 124.9, 'speaker_tag': 0}, {'word': 'a', 'start_time': 124.9, 'end_time': 125.0, 'speaker_tag': 0}, {'word': 'day-to-day', 'start_time': 125.0, 'end_time': 125.4, 'speaker_tag': 0}, {'word': 'wallet,', 'start_time': 125.4, 'end_time': 126.0, 'speaker_tag': 0}, {'word': 'if', 'start_time': 126.0, 'end_time': 126.4, 'speaker_tag': 0}, {'word': 'I', 'start_time': 126.4, 'end_time': 126.4, 'speaker_tag': 0}, {'word': 'want', 'start_time': 126.4, 'end_time': 126.7, 'speaker_tag': 0}, {'word': 'to', 'start_time': 126.7, 'end_time': 126.7, 'speaker_tag': 0}, {'word': 'move', 'start_time': 126.7, 'end_time': 126.8, 'speaker_tag': 0}, {'word': 'ether', 'start_time': 126.8, 'end_time': 127.3, 'speaker_tag': 0}, {'word': 'to', 'start_time': 127.3, 'end_time': 127.5, 'speaker_tag': 0}, {'word': 'metamask', 'start_time': 127.5, 'end_time': 128.2, 'speaker_tag': 0}, {'word': 'or', 'start_time': 128.2, 'end_time': 128.3, 'speaker_tag': 0}, {'word': 'send', 'start_time': 128.3, 'end_time': 128.6, 'speaker_tag': 0}, {'word': 'a', 'start_time': 128.6, 'end_time': 128.7, 'speaker_tag': 0}, {'word': 'friend,', 'start_time': 128.7, 'end_time': 128.9, 'speaker_tag': 0}, {'word': 'a', 'start_time': 128.9, 'end_time': 129.0, 'speaker_tag': 0}, {'word': 'payment', 'start_time': 129.0, 'end_time': 129.5, 'speaker_tag': 0}, {'word': 'using', 'start_time': 129.5, 'end_time': 129.7, 'speaker_tag': 0}, {'word': 'crypto,', 'start_time': 129.7, 'end_time': 130.1, 'speaker_tag': 0}, {'word': 'I', 'start_time': 130.1, 'end_time': 130.3, 'speaker_tag': 0}, {'word': 'turn', 'start_time': 130.3, 'end_time': 130.6, 'speaker_tag': 0}, {'word': 'to', 'start_time': 130.6, 'end_time': 130.8, 'speaker_tag': 0}, {'word': 'every', 'start_time': 130.8, 'end_time': 131.1, 'speaker_tag': 0}, {'word': 'coin', 'start_time': 131.1, 'end_time': 131.3, 'speaker_tag': 0}, {'word': 'and', 'start_time': 131.3, 'end_time': 132.4, 'speaker_tag': 0}, {'word': 'to', 'start_time': 132.4, 'end_time': 132.9, 'speaker_tag': 0}, {'word': 'be', 'start_time': 132.9, 'end_time': 133.0, 'speaker_tag': 0}, {'word': 'honest', 'start_time': 133.0, 'end_time': 133.3, 'speaker_tag': 0}, {'word': 'with', 'start_time': 133.3, 'end_time': 133.4, 'speaker_tag': 0}, {'word': 'you,', 'start_time': 133.4, 'end_time': 133.5, 'speaker_tag': 0}, {'word': 'the', 'start_time': 133.5, 'end_time': 133.7, 'speaker_tag': 0}, {'word': 'Simplicity', 'start_time': 133.7, 'end_time': 134.2, 'speaker_tag': 0}, {'word': 'of', 'start_time': 134.2, 'end_time': 134.3, 'speaker_tag': 0}, {'word': 'the', 'start_time': 134.3, 'end_time': 134.4, 'speaker_tag': 0}, {'word': 'wallet', 'start_time': 134.4, 'end_time': 134.8, 'speaker_tag': 0}, {'word': 'is', 'start_time': 134.8, 'end_time': 134.9, 'speaker_tag': 0}, {'word': 'what', 'start_time': 134.9, 'end_time': 135.1, 'speaker_tag': 0}, {'word': 'makes', 'start_time': 135.1, 'end_time': 135.3, 'speaker_tag': 0}, {'word': 'it', 'start_time': 135.3, 'end_time': 135.4, 'speaker_tag': 0}, {'word': 'a', 'start_time': 135.4, 'end_time': 135.5, 'speaker_tag': 0}, {'word': 'pleasure', 'start_time': 135.5, 'end_time': 135.6, 'speaker_tag': 0}, {'word': 'to', 'start_time': 135.6, 'end_time': 136.0, 'speaker_tag': 0}, {'word': 'use.', 'start_time': 136.0, 'end_time': 136.3, 'speaker_tag': 0}, {'word': 'Now', 'start_time': 136.3, 'end_time': 137.4, 'speaker_tag': 0}, {'word': 'there', 'start_time': 137.4, 'end_time': 137.6, 'speaker_tag': 0}, {'word': 'is', 'start_time': 137.6, 'end_time': 137.8, 'speaker_tag': 0}, {'word': 'a', 'start_time': 137.8, 'end_time': 137.9, 'speaker_tag': 0}, {'word': 'massive', 'start_time': 137.9, 'end_time': 138.3, 'speaker_tag': 0}, {'word': 'underrated', 'start_time': 138.3, 'end_time': 138.8, 'speaker_tag': 0}, {'word': 'feature', 'start_time': 138.8, 'end_time': 139.4, 'speaker_tag': 0}, {'word': 'in', 'start_time': 139.4, 'end_time': 139.4, 'speaker_tag': 0}, {'word': 'every', 'start_time': 139.4, 'end_time': 139.6, 'speaker_tag': 0}, {'word': 'coin.', 'start_time': 139.6, 'end_time': 139.9, 'speaker_tag': 0}, {'word': 'That', 'start_time': 139.9, 'end_time': 140.1, 'speaker_tag': 0}, {'word': 'makes', 'start_time': 140.1, 'end_time': 140.4, 'speaker_tag': 0}, {'word': 'it', 'start_time': 140.4, 'end_time': 140.5, 'speaker_tag': 0}, {'word': 'my', 'start_time': 140.5, 'end_time': 140.7, 'speaker_tag': 0}, {'word': 'top', 'start_time': 140.7, 'end_time': 140.9, 'speaker_tag': 0}, {'word': 'pick', 'start_time': 140.9, 'end_time': 141.2, 'speaker_tag': 0}, {'word': 'by', 'start_time': 141.2, 'end_time': 141.5, 'speaker_tag': 0}, {'word': 'a', 'start_time': 141.5, 'end_time': 141.6, 'speaker_tag': 0}, {'word': 'large', 'start_time': 141.6, 'end_time': 142.1, 'speaker_tag': 0}, {'word': 'margin,', 'start_time': 142.1, 'end_time': 142.2, 'speaker_tag': 0}, {'word': 'so', 'start_time': 142.2, 'end_time': 143.1, 'speaker_tag': 0}, {'word': 'stay', 'start_time': 143.1, 'end_time': 143.3, 'speaker_tag': 0}, {'word': 'tuned', 'start_time': 143.3, 'end_time': 143.5, 'speaker_tag': 0}, {'word': 'for', 'start_time': 143.5, 'end_time': 143.7, 'speaker_tag': 0}, {'word': 'that.', 'start_time': 143.7, 'end_time': 143.9, 'speaker_tag': 0}, {'word': 'But', 'start_time': 143.9, 'end_time': 144.2, 'speaker_tag': 0}, {'word': \"let's\", 'start_time': 144.2, 'end_time': 144.4, 'speaker_tag': 0}, {'word': 'talk', 'start_time': 144.4, 'end_time': 144.5, 'speaker_tag': 0}, {'word': 'about', 'start_time': 144.5, 'end_time': 144.6, 'speaker_tag': 0}, {'word': 'one', 'start_time': 144.6, 'end_time': 145.0, 'speaker_tag': 0}, {'word': 'more', 'start_time': 145.0, 'end_time': 145.2, 'speaker_tag': 0}, {'word': 'thing', 'start_time': 145.2, 'end_time': 145.3, 'speaker_tag': 0}, {'word': 'first', 'start_time': 145.3, 'end_time': 145.8, 'speaker_tag': 0}, {'word': 'before', 'start_time': 145.8, 'end_time': 145.9, 'speaker_tag': 0}, {'word': 'we', 'start_time': 145.9, 'end_time': 146.2, 'speaker_tag': 0}, {'word': 'get', 'start_time': 146.2, 'end_time': 146.4, 'speaker_tag': 0}, {'word': 'there.', 'start_time': 146.4, 'end_time': 146.6, 'speaker_tag': 0}]}\n",
            "{'transcript': \" There are built-in exchange and swap features within every coin and yes, they do require kyc, which is not surprising in the slightest either. This is, of course, an optional process and you can use every coin as a wallet and a secured wallet. At that without doing kyc, you just won't be able to use the exchange features built-in. However, if you do, you have a great way to swap one asset for another, right, inside your app without moving to a non-custodial exchange, where you lose control of your crypto\", 'words': [{'word': 'There', 'start_time': 147.3, 'end_time': 147.5, 'speaker_tag': 0}, {'word': 'are', 'start_time': 147.5, 'end_time': 147.7, 'speaker_tag': 0}, {'word': 'built-in', 'start_time': 147.7, 'end_time': 148.2, 'speaker_tag': 0}, {'word': 'exchange', 'start_time': 148.2, 'end_time': 148.8, 'speaker_tag': 0}, {'word': 'and', 'start_time': 148.8, 'end_time': 149.0, 'speaker_tag': 0}, {'word': 'swap', 'start_time': 149.0, 'end_time': 149.1, 'speaker_tag': 0}, {'word': 'features', 'start_time': 149.1, 'end_time': 149.8, 'speaker_tag': 0}, {'word': 'within', 'start_time': 149.8, 'end_time': 150.1, 'speaker_tag': 0}, {'word': 'every', 'start_time': 150.1, 'end_time': 150.5, 'speaker_tag': 0}, {'word': 'coin', 'start_time': 150.5, 'end_time': 150.7, 'speaker_tag': 0}, {'word': 'and', 'start_time': 150.7, 'end_time': 151.0, 'speaker_tag': 0}, {'word': 'yes,', 'start_time': 151.0, 'end_time': 151.3, 'speaker_tag': 0}, {'word': 'they', 'start_time': 151.3, 'end_time': 151.5, 'speaker_tag': 0}, {'word': 'do', 'start_time': 151.5, 'end_time': 151.6, 'speaker_tag': 0}, {'word': 'require', 'start_time': 151.6, 'end_time': 151.9, 'speaker_tag': 0}, {'word': 'kyc,', 'start_time': 151.9, 'end_time': 152.7, 'speaker_tag': 0}, {'word': 'which', 'start_time': 152.7, 'end_time': 153.0, 'speaker_tag': 0}, {'word': 'is', 'start_time': 153.0, 'end_time': 153.2, 'speaker_tag': 0}, {'word': 'not', 'start_time': 153.2, 'end_time': 153.4, 'speaker_tag': 0}, {'word': 'surprising', 'start_time': 153.4, 'end_time': 153.6, 'speaker_tag': 0}, {'word': 'in', 'start_time': 153.6, 'end_time': 154.1, 'speaker_tag': 0}, {'word': 'the', 'start_time': 154.1, 'end_time': 154.2, 'speaker_tag': 0}, {'word': 'slightest', 'start_time': 154.2, 'end_time': 154.6, 'speaker_tag': 0}, {'word': 'either.', 'start_time': 154.6, 'end_time': 154.9, 'speaker_tag': 0}, {'word': 'This', 'start_time': 154.9, 'end_time': 155.6, 'speaker_tag': 0}, {'word': 'is,', 'start_time': 155.6, 'end_time': 155.6, 'speaker_tag': 0}, {'word': 'of', 'start_time': 155.6, 'end_time': 155.8, 'speaker_tag': 0}, {'word': 'course,', 'start_time': 155.8, 'end_time': 155.9, 'speaker_tag': 0}, {'word': 'an', 'start_time': 155.9, 'end_time': 156.1, 'speaker_tag': 0}, {'word': 'optional', 'start_time': 156.1, 'end_time': 156.5, 'speaker_tag': 0}, {'word': 'process', 'start_time': 156.5, 'end_time': 157.1, 'speaker_tag': 0}, {'word': 'and', 'start_time': 157.1, 'end_time': 157.2, 'speaker_tag': 0}, {'word': 'you', 'start_time': 157.2, 'end_time': 157.3, 'speaker_tag': 0}, {'word': 'can', 'start_time': 157.3, 'end_time': 157.5, 'speaker_tag': 0}, {'word': 'use', 'start_time': 157.5, 'end_time': 157.6, 'speaker_tag': 0}, {'word': 'every', 'start_time': 157.6, 'end_time': 157.9, 'speaker_tag': 0}, {'word': 'coin', 'start_time': 157.9, 'end_time': 158.1, 'speaker_tag': 0}, {'word': 'as', 'start_time': 158.1, 'end_time': 158.2, 'speaker_tag': 0}, {'word': 'a', 'start_time': 158.2, 'end_time': 158.3, 'speaker_tag': 0}, {'word': 'wallet', 'start_time': 158.3, 'end_time': 158.7, 'speaker_tag': 0}, {'word': 'and', 'start_time': 158.7, 'end_time': 158.8, 'speaker_tag': 0}, {'word': 'a', 'start_time': 158.8, 'end_time': 158.8, 'speaker_tag': 0}, {'word': 'secured', 'start_time': 158.8, 'end_time': 159.2, 'speaker_tag': 0}, {'word': 'wallet.', 'start_time': 159.2, 'end_time': 159.3, 'speaker_tag': 0}, {'word': 'At', 'start_time': 159.3, 'end_time': 159.6, 'speaker_tag': 0}, {'word': 'that', 'start_time': 159.6, 'end_time': 159.9, 'speaker_tag': 0}, {'word': 'without', 'start_time': 159.9, 'end_time': 160.1, 'speaker_tag': 0}, {'word': 'doing', 'start_time': 160.1, 'end_time': 160.5, 'speaker_tag': 0}, {'word': 'kyc,', 'start_time': 160.5, 'end_time': 161.1, 'speaker_tag': 0}, {'word': 'you', 'start_time': 161.1, 'end_time': 161.7, 'speaker_tag': 0}, {'word': 'just', 'start_time': 161.7, 'end_time': 161.9, 'speaker_tag': 0}, {'word': \"won't\", 'start_time': 161.9, 'end_time': 162.1, 'speaker_tag': 0}, {'word': 'be', 'start_time': 162.1, 'end_time': 162.2, 'speaker_tag': 0}, {'word': 'able', 'start_time': 162.2, 'end_time': 162.3, 'speaker_tag': 0}, {'word': 'to', 'start_time': 162.3, 'end_time': 162.4, 'speaker_tag': 0}, {'word': 'use', 'start_time': 162.4, 'end_time': 162.5, 'speaker_tag': 0}, {'word': 'the', 'start_time': 162.5, 'end_time': 162.7, 'speaker_tag': 0}, {'word': 'exchange', 'start_time': 162.7, 'end_time': 163.2, 'speaker_tag': 0}, {'word': 'features', 'start_time': 163.2, 'end_time': 163.6, 'speaker_tag': 0}, {'word': 'built-in.', 'start_time': 163.6, 'end_time': 163.9, 'speaker_tag': 0}, {'word': 'However,', 'start_time': 163.9, 'end_time': 165.2, 'speaker_tag': 0}, {'word': 'if', 'start_time': 165.2, 'end_time': 165.8, 'speaker_tag': 0}, {'word': 'you', 'start_time': 165.8, 'end_time': 165.9, 'speaker_tag': 0}, {'word': 'do,', 'start_time': 165.9, 'end_time': 166.1, 'speaker_tag': 0}, {'word': 'you', 'start_time': 166.1, 'end_time': 166.7, 'speaker_tag': 0}, {'word': 'have', 'start_time': 166.7, 'end_time': 166.8, 'speaker_tag': 0}, {'word': 'a', 'start_time': 166.8, 'end_time': 166.8, 'speaker_tag': 0}, {'word': 'great', 'start_time': 166.8, 'end_time': 167.1, 'speaker_tag': 0}, {'word': 'way', 'start_time': 167.1, 'end_time': 167.2, 'speaker_tag': 0}, {'word': 'to', 'start_time': 167.2, 'end_time': 167.2, 'speaker_tag': 0}, {'word': 'swap', 'start_time': 167.2, 'end_time': 167.6, 'speaker_tag': 0}, {'word': 'one', 'start_time': 167.6, 'end_time': 167.9, 'speaker_tag': 0}, {'word': 'asset', 'start_time': 167.9, 'end_time': 168.3, 'speaker_tag': 0}, {'word': 'for', 'start_time': 168.3, 'end_time': 168.5, 'speaker_tag': 0}, {'word': 'another,', 'start_time': 168.5, 'end_time': 168.9, 'speaker_tag': 0}, {'word': 'right,', 'start_time': 168.9, 'end_time': 169.1, 'speaker_tag': 0}, {'word': 'inside', 'start_time': 169.1, 'end_time': 169.6, 'speaker_tag': 0}, {'word': 'your', 'start_time': 169.6, 'end_time': 169.6, 'speaker_tag': 0}, {'word': 'app', 'start_time': 169.6, 'end_time': 169.9, 'speaker_tag': 0}, {'word': 'without', 'start_time': 169.9, 'end_time': 170.2, 'speaker_tag': 0}, {'word': 'moving', 'start_time': 170.2, 'end_time': 170.5, 'speaker_tag': 0}, {'word': 'to', 'start_time': 170.5, 'end_time': 170.7, 'speaker_tag': 0}, {'word': 'a', 'start_time': 170.7, 'end_time': 170.8, 'speaker_tag': 0}, {'word': 'non-custodial', 'start_time': 170.8, 'end_time': 171.2, 'speaker_tag': 0}, {'word': 'exchange,', 'start_time': 171.2, 'end_time': 172.1, 'speaker_tag': 0}, {'word': 'where', 'start_time': 172.1, 'end_time': 172.3, 'speaker_tag': 0}, {'word': 'you', 'start_time': 172.3, 'end_time': 172.4, 'speaker_tag': 0}, {'word': 'lose', 'start_time': 172.4, 'end_time': 172.6, 'speaker_tag': 0}, {'word': 'control', 'start_time': 172.6, 'end_time': 172.9, 'speaker_tag': 0}, {'word': 'of', 'start_time': 172.9, 'end_time': 173.1, 'speaker_tag': 0}, {'word': 'your', 'start_time': 173.1, 'end_time': 173.3, 'speaker_tag': 0}, {'word': 'crypto', 'start_time': 173.3, 'end_time': 173.7, 'speaker_tag': 0}]}\n",
            "Transcription saved to /content/gdrive/MyDrive/techara/hashoshi/hashoshi_transcription.txt\n"
          ],
          "name": "stdout"
        }
      ]
    },
    {
      "cell_type": "code",
      "metadata": {
        "colab": {
          "base_uri": "https://localhost:8080/"
        },
        "id": "Vr4iXSiWpyA7",
        "outputId": "67af1854-df68-482e-c493-6a5ee024dff8"
      },
      "source": [
        "#translate(\"hosk_3min.wav\", \"hosk_3min_transcription.txt\", \"hosk\", \"IT\", \"EN\")\n",
        "translate(originalAudioName, transcriptionFileName, projectDir, targetLanguageDeepl, sourceLanguageDeepl)"
      ],
      "execution_count": null,
      "outputs": [
        {
          "output_type": "stream",
          "text": [
            "Mesdames et messieurs, gens d'Internet.\n",
            "Aujourd'hui, je veux partager avec vous le meilleur portefeuille mobile pour les crypto-monnaies, qui vous aidera à garder votre utilisation quotidienne de crypto-monnaies, sûre et sécurisée.\n",
            "Et d'ailleurs, si vous aimez les crypto-monnaies et la blockchain, pensez à vous abonner à la chaîne et à appuyer sur la petite cloche.\n",
            "Le bouton de notification ci-dessous vous permet d'être averti dès que je publie un nouveau contenu.\n",
            "Merci d'avance pour le complÃ©ment d'information.\n",
            "Discutons-en.\n",
            "Le sujet de la vidéo d'aujourd'hui est mon porte-monnaie mobile préféré, en particulier pour iOS, et il s'agit de toutes les pièces de monnaie.\n",
            "Coin est une application de portefeuille de crypto-monnaies bien conçue, disponible sur IOS et Android, qui dispose de fonctions d'échange intégrées et constitue une excellente option pour l'utilisation quotidienne des crypto-monnaies.\n",
            "L'interface est super propre.\n",
            "Il a tout ce dont vous avez besoin directement sur la page principale et vous pouvez rapidement voir une liste personnalisable des tendances de prix des cryptoactifs, et bien sûr, les graphiques pour chacun d'entre eux et aussi onglet et voir votre propre portefeuille et les soldes, tout cela est une fonctionnalité sous-estimée en soi parce que honnêtement beaucoup de portefeuilles ont votre solde sur la page principale et je déteste cela parce que quelqu'un qui regarde par-dessus mon épaule quand j'ouvre l'application, juste pour vérifier, les prix peuvent voir mon portefeuille et combien j'ai dedans, pas bon.\n",
            "J'aime donc pouvoir contrôler cela et j'apprécie que chaque pièce soit placée par défaut dans un onglet différent.\n",
            "Maintenant, ils ont une liste d'actifs assez dÃ©cente.\n",
            "Ou l'a fait en ce moment et cette liste ne cesse de s'allonger et je vais vous la montrer ici.\n",
            "Mais bien sûr, si vous avez un que vous voulez soutenu sur jamais aller me faire savoir dans les commentaires ci-dessous et j'ai partagé avec les dents.\n",
            "Un autre élément que j'ai utilisé assez souvent est le prix.\n",
            "FonctionnalitÃ© des alertes pour aider.\n",
            "Tenez-moi au courant de l'Ã©volution des prix.\n",
            "Et d'après mon expérience, ces notifications sont toujours arrivées au bon moment.\n",
            "Et je ne vois pas de réponses vraiment, vraiment retardées aux mouvements de prix.\n",
            "Bien sûr, il s'agit de fonctionnalités que l'on est en droit d'attendre d'un bon portefeuille mobile, mais vous seriez surpris de voir à quel point elles sont trop compliquées.\n",
            "Ceux-ci, je serai à des fonctionnalités simples, peut être calme sur certaines applications mobiles.\n",
            "J'adore la SimplicitÃ© ici.\n",
            "Comme je l'utilise principalement comme un portefeuille quotidien, si je veux déplacer de l'éther vers un métamasque ou envoyer un paiement à un ami en utilisant une crypto, je me tourne vers chaque pièce et pour être honnête avec vous, la simplicité du portefeuille est ce qui en fait un plaisir à utiliser.\n",
            "Il existe une caractéristique sous-estimée dans toutes les pièces.\n",
            "Cela en fait mon premier choix de loin, alors restez à l'écoute pour cela.\n",
            "Mais parlons d'une autre chose avant d'en arriver lÃ .\n",
            "Il existe des fonctions intégrées d'échange et de swap dans chaque pièce et, oui, elles nécessitent un kyc, ce qui n'est pas surprenant du tout.\n",
            "Il s'agit, bien entendu, d'un processus facultatif et vous pouvez utiliser chaque pièce comme un portefeuille et un porte-monnaie sécurisé.\n",
            "A cela, sans faire kyc, vous ne pourrez tout simplement pas utiliser les fonctions d'échange intégrées.\n",
            "Cependant, si c'est le cas, vous disposez d'un excellent moyen d'échanger un actif contre un autre, à l'intérieur de votre application, sans passer par une bourse non dépositaire, où vous perdez le contrôle de vos crypto-monnaies.\n",
            "Translated file saved to /content/gdrive/MyDrive/techara/hashoshi/hashoshi_translation.txt\n"
          ],
          "name": "stdout"
        }
      ]
    },
    {
      "cell_type": "code",
      "metadata": {
        "colab": {
          "base_uri": "https://localhost:8080/"
        },
        "id": "Pr-3jz67p0JD",
        "outputId": "8b1f8b59-c9c2-4472-c407-0d23c71866ac"
      },
      "source": [
        "#synthesize_timelimited_speech_google(\"hosk_3min_translation.txt\", \"hosk\", \"IT\",\"it-IT\", \"audioFiles\", voiceName=\"it-IT-Wavenet-D\")\n",
        "synthesize_timelimited_speech_google(translationFileName, projectDir, targetLanguageDeepl,targetLanguage, audioDir,voiceNameGoogle)#"
      ],
      "execution_count": null,
      "outputs": [
        {
          "output_type": "stream",
          "text": [
            "Synthesized speech written as /content/gdrive/MyDrive/techara/hashoshi/audioFiles/0.wav\n",
            "Synthesized speech written as /content/gdrive/MyDrive/techara/hashoshi/audioFiles/0.wav\n",
            "Synthesized speech written as /content/gdrive/MyDrive/techara/hashoshi/audioFiles/1.wav\n",
            "Synthesized speech written as /content/gdrive/MyDrive/techara/hashoshi/audioFiles/1.wav\n",
            "Synthesized speech written as /content/gdrive/MyDrive/techara/hashoshi/audioFiles/2.wav\n",
            "Synthesized speech written as /content/gdrive/MyDrive/techara/hashoshi/audioFiles/2.wav\n",
            "Synthesized speech written as /content/gdrive/MyDrive/techara/hashoshi/audioFiles/3.wav\n",
            "Synthesized speech written as /content/gdrive/MyDrive/techara/hashoshi/audioFiles/3.wav\n",
            "Synthesized speech written as /content/gdrive/MyDrive/techara/hashoshi/audioFiles/4.wav\n",
            "Synthesized speech written as /content/gdrive/MyDrive/techara/hashoshi/audioFiles/4.wav\n",
            "Synthesized speech written as /content/gdrive/MyDrive/techara/hashoshi/audioFiles/5.wav\n",
            "Synthesized speech written as /content/gdrive/MyDrive/techara/hashoshi/audioFiles/5.wav\n",
            "Synthesized speech written as /content/gdrive/MyDrive/techara/hashoshi/audioFiles/6.wav\n",
            "Synthesized speech written as /content/gdrive/MyDrive/techara/hashoshi/audioFiles/6.wav\n",
            "Synthesized speech written as /content/gdrive/MyDrive/techara/hashoshi/audioFiles/7.wav\n",
            "Synthesized speech written as /content/gdrive/MyDrive/techara/hashoshi/audioFiles/7.wav\n",
            "Synthesized speech written as /content/gdrive/MyDrive/techara/hashoshi/audioFiles/8.wav\n",
            "Synthesized speech written as /content/gdrive/MyDrive/techara/hashoshi/audioFiles/8.wav\n",
            "Synthesized speech written as /content/gdrive/MyDrive/techara/hashoshi/audioFiles/9.wav\n",
            "Synthesized speech written as /content/gdrive/MyDrive/techara/hashoshi/audioFiles/9.wav\n",
            "Synthesized speech written as /content/gdrive/MyDrive/techara/hashoshi/audioFiles/10.wav\n",
            "Synthesized speech written as /content/gdrive/MyDrive/techara/hashoshi/audioFiles/10.wav\n",
            "Synthesized speech written as /content/gdrive/MyDrive/techara/hashoshi/audioFiles/11.wav\n",
            "Synthesized speech written as /content/gdrive/MyDrive/techara/hashoshi/audioFiles/11.wav\n",
            "Synthesized speech written as /content/gdrive/MyDrive/techara/hashoshi/audioFiles/12.wav\n",
            "Synthesized speech written as /content/gdrive/MyDrive/techara/hashoshi/audioFiles/12.wav\n",
            "Synthesized speech written as /content/gdrive/MyDrive/techara/hashoshi/audioFiles/13.wav\n",
            "Synthesized speech written as /content/gdrive/MyDrive/techara/hashoshi/audioFiles/13.wav\n",
            "Synthesized speech written as /content/gdrive/MyDrive/techara/hashoshi/audioFiles/14.wav\n",
            "Synthesized speech written as /content/gdrive/MyDrive/techara/hashoshi/audioFiles/14.wav\n",
            "Synthesized speech written as /content/gdrive/MyDrive/techara/hashoshi/audioFiles/15.wav\n",
            "Synthesized speech written as /content/gdrive/MyDrive/techara/hashoshi/audioFiles/15.wav\n",
            "Synthesized speech written as /content/gdrive/MyDrive/techara/hashoshi/audioFiles/16.wav\n",
            "Synthesized speech written as /content/gdrive/MyDrive/techara/hashoshi/audioFiles/16.wav\n",
            "Synthesized speech written as /content/gdrive/MyDrive/techara/hashoshi/audioFiles/17.wav\n",
            "Synthesized speech written as /content/gdrive/MyDrive/techara/hashoshi/audioFiles/17.wav\n",
            "Synthesized speech written as /content/gdrive/MyDrive/techara/hashoshi/audioFiles/18.wav\n",
            "Synthesized speech written as /content/gdrive/MyDrive/techara/hashoshi/audioFiles/18.wav\n",
            "Synthesized speech written as /content/gdrive/MyDrive/techara/hashoshi/audioFiles/19.wav\n",
            "Synthesized speech written as /content/gdrive/MyDrive/techara/hashoshi/audioFiles/19.wav\n",
            "Synthesized speech written as /content/gdrive/MyDrive/techara/hashoshi/audioFiles/20.wav\n",
            "Synthesized speech written as /content/gdrive/MyDrive/techara/hashoshi/audioFiles/20.wav\n",
            "Synthesized speech written as /content/gdrive/MyDrive/techara/hashoshi/audioFiles/21.wav\n",
            "Synthesized speech written as /content/gdrive/MyDrive/techara/hashoshi/audioFiles/21.wav\n",
            "Synthesized speech written as /content/gdrive/MyDrive/techara/hashoshi/audioFiles/22.wav\n",
            "Synthesized speech written as /content/gdrive/MyDrive/techara/hashoshi/audioFiles/22.wav\n",
            "Synthesized speech written as /content/gdrive/MyDrive/techara/hashoshi/audioFiles/23.wav\n",
            "Synthesized speech written as /content/gdrive/MyDrive/techara/hashoshi/audioFiles/23.wav\n",
            "Synthesized speech written as /content/gdrive/MyDrive/techara/hashoshi/audioFiles/24.wav\n",
            "Synthesized speech written as /content/gdrive/MyDrive/techara/hashoshi/audioFiles/24.wav\n",
            "Synthesized speech written as /content/gdrive/MyDrive/techara/hashoshi/audioFiles/25.wav\n",
            "Synthesized speech written as /content/gdrive/MyDrive/techara/hashoshi/audioFiles/25.wav\n",
            "Synthesized speech written as /content/gdrive/MyDrive/techara/hashoshi/audioFiles/26.wav\n",
            "Synthesized speech written as /content/gdrive/MyDrive/techara/hashoshi/audioFiles/26.wav\n",
            "Synthesized speech written as /content/gdrive/MyDrive/techara/hashoshi/audioFiles/27.wav\n",
            "Synthesized speech written as /content/gdrive/MyDrive/techara/hashoshi/audioFiles/27.wav\n",
            "Synthesized speech written as /content/gdrive/MyDrive/techara/hashoshi/audioFiles/28.wav\n",
            "Synthesized speech written as /content/gdrive/MyDrive/techara/hashoshi/audioFiles/28.wav\n",
            "Synthesized speech written as /content/gdrive/MyDrive/techara/hashoshi/audioFiles/29.wav\n",
            "Synthesized speech written as /content/gdrive/MyDrive/techara/hashoshi/audioFiles/29.wav\n"
          ],
          "name": "stdout"
        }
      ]
    },
    {
      "cell_type": "code",
      "metadata": {
        "colab": {
          "base_uri": "https://localhost:8080/"
        },
        "id": "-eypq5Adp1te",
        "outputId": "ff683c22-304c-4136-e709-79642c65d962"
      },
      "source": [
        "#stitch_audio_video_google(\"hosk_3min.mp4\",\"hosk_3min_translation.txt\", \"hosk\",\"audioFiles\",\"videoFiles\", \"videoFiles\", -50)\n",
        "stitch_audio_video_google(originalVideoName, translationFileName, projectDir, audioDir, videoDir,outFileDir, overlayGain)"
      ],
      "execution_count": null,
      "outputs": [
        {
          "output_type": "stream",
          "text": [
            "[MoviePy] >>>> Building video /content/gdrive/MyDrive/techara/hashoshi/videoFiles/hashoshi_dubbed.mp4\n",
            "[MoviePy] Writing audio in hashoshi_dubbedTEMP_MPY_wvf_snd.mp4\n"
          ],
          "name": "stdout"
        },
        {
          "output_type": "stream",
          "text": [
            "100%|██████████| 3841/3841 [00:11<00:00, 342.77it/s]\n"
          ],
          "name": "stderr"
        },
        {
          "output_type": "stream",
          "text": [
            "[MoviePy] Done.\n",
            "[MoviePy] Writing video /content/gdrive/MyDrive/techara/hashoshi/videoFiles/hashoshi_dubbed.mp4\n"
          ],
          "name": "stdout"
        },
        {
          "output_type": "stream",
          "text": [
            "100%|██████████| 5224/5224 [05:09<00:00, 16.91it/s]\n"
          ],
          "name": "stderr"
        },
        {
          "output_type": "stream",
          "text": [
            "[MoviePy] Done.\n",
            "[MoviePy] >>>> Video ready: /content/gdrive/MyDrive/techara/hashoshi/videoFiles/hashoshi_dubbed.mp4 \n",
            "\n"
          ],
          "name": "stdout"
        }
      ]
    }
  ]
}